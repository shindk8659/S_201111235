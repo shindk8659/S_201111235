{
 "cells": [
  {
   "cell_type": "markdown",
   "metadata": {},
   "source": [
    "local\n",
    "remote\n",
    "local 방식으로 하는것이 아니면 streaming 으로 하는것이다 .\n",
    "jason 이라는것을 사용하는방법.\n",
    "NoSql 이것이 요즘 많이 물어보는 것! \n",
    "\n",
    "이번시간의 목표는 jason 으로 읽고 쓰기하는 것.\n",
    "첫번째로 인코딩이라는것을 알아야한다.(특히 한글 인코딩)\n",
    "MongoDB(집에서 해보기)\n",
    "CouchDB 는 안배울것(모바일에서 많이쓰인다 한쪽에서 업데이트되면 다른 한쪽도 업데이트됨 \n",
    "컴퓨터--스마트폰)\n",
    "\n",
    "s.2인코딩\n",
    "입출력은 바이트와 텍스트로 구분할수있다.\n",
    "문자를 코드값으로 변환하는것을 인코딩이라고한다\n",
    "바이트는 0부터2에8승개의 코드값이 있다.\n",
    "특수문자는 안된다.\n",
    "\n",
    "\n",
    "\n",
    "\n"
   ]
  },
  {
   "cell_type": "code",
   "execution_count": 1,
   "metadata": {
    "collapsed": false
   },
   "outputs": [
    {
     "name": "stdout",
     "output_type": "stream",
     "text": [
      "<h1>Unicode Demo</h1>\n",
      "\n",
      "<p>Taken from <a\n",
      "href=\"http://www.cl.cam.ac.uk/~mgk25/ucs/examples/UTF-8-demo.txt\">http://www.cl.cam.ac.uk/~mgk25/ucs/examples/UTF-8-demo.txt</a></p>\n",
      "\n",
      "<pre>\n",
      "\n",
      "UTF-8 encoded sample plain-text file\n",
      "‾‾‾‾‾‾‾‾‾‾‾‾‾‾‾‾‾‾‾‾‾‾‾‾‾‾‾‾‾‾‾‾‾‾‾‾\n",
      "\n",
      "Markus Kuhn [ˈmaʳkʊs kuːn] <http://www.cl.cam.ac.uk/~mgk25/> — 2002-07-25\n",
      "\n",
      "\n",
      "The ASCII compatible UTF-8 encoding used in this plain-text file\n",
      "is defined in Unicode, ISO 10646-1, and RFC 2279.\n",
      "\n",
      "\n",
      "Using Unicode/UTF-8, you can write in emails and source code things such as\n",
      "\n",
      "Mathematics and sciences:\n",
      "\n",
      "  ∮ E⋅da = Q,  n → ∞, ∑ f(i) = ∏ g(i),      ⎧⎡⎛┌─────┐⎞⎤⎫\n",
      "                                            ⎪⎢⎜│a²+b³ ⎟⎥⎪\n",
      "  ∀x∈ℝ: ⌈x⌉ = −⌊−x⌋, α ∧ ¬β = ¬(¬α ∨ β),    ⎪⎢⎜│───── ⎟⎥⎪\n",
      "                                            ⎪⎢⎜⎷ c₈   ⎟⎥⎪\n",
      "  ℕ ⊆ ℕ₀ ⊂ ℤ ⊂ ℚ ⊂ ℝ ⊂ ℂ,                   ⎨⎢⎜       ⎟⎥⎬\n",
      "                                            ⎪⎢⎜ ∞     ⎟⎥⎪\n",
      "  ⊥ < a ≠ b ≡ c ≤ d ≪ ⊤ ⇒ (⟦A⟧ ⇔ ⟪B⟫),      ⎪⎢⎜ ⎲     ⎟⎥⎪\n",
      "                                            ⎪⎢⎜ ⎳aⁱ-bⁱ⎟⎥⎪\n",
      "  2H₂ + O₂ ⇌ 2H₂O, R = 4.7 kΩ, ⌀ 200 mm     ⎩⎣⎝i=1    ⎠⎦⎭\n",
      "\n",
      "Linguistics and dictionaries:\n",
      "\n",
      "  ði ıntəˈnæʃənəl fəˈnɛtık əsoʊsiˈeıʃn\n",
      "  Y [ˈʏpsilɔn], Yen [jɛn], Yoga [ˈjoːgɑ]\n",
      "\n",
      "APL:\n",
      "\n",
      "  ((V⍳V)=⍳⍴V)/V←,V    ⌷←⍳→⍴∆∇⊃‾⍎⍕⌈\n",
      "\n",
      "Nicer typography in plain text files:\n",
      "\n",
      "  ╔══════════════════════════════════════════╗\n",
      "  ║                                          ║\n",
      "  ║   • ‘single’ and “double” quotes         ║\n",
      "  ║                                          ║\n",
      "  ║   • Curly apostrophes: “We’ve been here” ║\n",
      "  ║                                          ║\n",
      "  ║   • Latin-1 apostrophe and accents: '´`  ║\n",
      "  ║                                          ║\n",
      "  ║   • ‚deutsche‘ „Anführungszeichen“       ║\n",
      "  ║                                          ║\n",
      "  ║   • †, ‡, ‰, •, 3–4, —, −5/+5, ™, …      ║\n",
      "  ║                                          ║\n",
      "  ║   • ASCII safety test: 1lI|, 0OD, 8B     ║\n",
      "  ║                      ╭─────────╮         ║\n",
      "  ║   • the euro symbol: │ 14.95 € │         ║\n",
      "  ║                      ╰─────────╯         ║\n",
      "  ╚══════════════════════════════════════════╝\n",
      "\n",
      "Combining characters:\n",
      "\n",
      "  STARGΛ̊TE SG-1, a = v̇ = r̈, a⃑ ⊥ b⃑\n",
      "\n",
      "Greek (in Polytonic):\n",
      "\n",
      "  The Greek anthem:\n",
      "\n",
      "  Σὲ γνωρίζω ἀπὸ τὴν κόψη\n",
      "  τοῦ σπαθιοῦ τὴν τρομερή,\n",
      "  σὲ γνωρίζω ἀπὸ τὴν ὄψη\n",
      "  ποὺ μὲ βία μετράει τὴ γῆ.\n",
      "\n",
      "  ᾿Απ᾿ τὰ κόκκαλα βγαλμένη\n",
      "  τῶν ῾Ελλήνων τὰ ἱερά\n",
      "  καὶ σὰν πρῶτα ἀνδρειωμένη\n",
      "  χαῖρε, ὦ χαῖρε, ᾿Ελευθεριά!\n",
      "\n",
      "  From a speech of Demosthenes in the 4th century BC:\n",
      "\n",
      "  Οὐχὶ ταὐτὰ παρίσταταί μοι γιγνώσκειν, ὦ ἄνδρες ᾿Αθηναῖοι,\n",
      "  ὅταν τ᾿ εἰς τὰ πράγματα ἀποβλέψω καὶ ὅταν πρὸς τοὺς\n",
      "  λόγους οὓς ἀκούω· τοὺς μὲν γὰρ λόγους περὶ τοῦ\n",
      "  τιμωρήσασθαι Φίλιππον ὁρῶ γιγνομένους, τὰ δὲ πράγματ᾿\n",
      "  εἰς τοῦτο προήκοντα,  ὥσθ᾿ ὅπως μὴ πεισόμεθ᾿ αὐτοὶ\n",
      "  πρότερον κακῶς σκέψασθαι δέον. οὐδέν οὖν ἄλλο μοι δοκοῦσιν\n",
      "  οἱ τὰ τοιαῦτα λέγοντες ἢ τὴν ὑπόθεσιν, περὶ ἧς βουλεύεσθαι,\n",
      "  οὐχὶ τὴν οὖσαν παριστάντες ὑμῖν ἁμαρτάνειν. ἐγὼ δέ, ὅτι μέν\n",
      "  ποτ᾿ ἐξῆν τῇ πόλει καὶ τὰ αὑτῆς ἔχειν ἀσφαλῶς καὶ Φίλιππον\n",
      "  τιμωρήσασθαι, καὶ μάλ᾿ ἀκριβῶς οἶδα· ἐπ᾿ ἐμοῦ γάρ, οὐ πάλαι\n",
      "  γέγονεν ταῦτ᾿ ἀμφότερα· νῦν μέντοι πέπεισμαι τοῦθ᾿ ἱκανὸν\n",
      "  προλαβεῖν ἡμῖν εἶναι τὴν πρώτην, ὅπως τοὺς συμμάχους\n",
      "  σώσομεν. ἐὰν γὰρ τοῦτο βεβαίως ὑπάρξῃ, τότε καὶ περὶ τοῦ\n",
      "  τίνα τιμωρήσεταί τις καὶ ὃν τρόπον ἐξέσται σκοπεῖν· πρὶν δὲ\n",
      "  τὴν ἀρχὴν ὀρθῶς ὑποθέσθαι, μάταιον ἡγοῦμαι περὶ τῆς\n",
      "  τελευτῆς ὁντινοῦν ποιεῖσθαι λόγον.\n",
      "\n",
      "  Δημοσθένους, Γ´ ᾿Ολυνθιακὸς\n",
      "\n",
      "Georgian:\n",
      "\n",
      "  From a Unicode conference invitation:\n",
      "\n",
      "  გთხოვთ ახლავე გაიაროთ რეგისტრაცია Unicode-ის მეათე საერთაშორისო\n",
      "  კონფერენციაზე დასასწრებად, რომელიც გაიმართება 10-12 მარტს,\n",
      "  ქ. მაინცში, გერმანიაში. კონფერენცია შეჰკრებს ერთად მსოფლიოს\n",
      "  ექსპერტებს ისეთ დარგებში როგორიცაა ინტერნეტი და Unicode-ი,\n",
      "  ინტერნაციონალიზაცია და ლოკალიზაცია, Unicode-ის გამოყენება\n",
      "  ოპერაციულ სისტემებსა, და გამოყენებით პროგრამებში, შრიფტებში,\n",
      "  ტექსტების დამუშავებასა და მრავალენოვან კომპიუტერულ სისტემებში.\n",
      "\n",
      "Russian:\n",
      "\n",
      "  From a Unicode conference invitation:\n",
      "\n",
      "  Зарегистрируйтесь сейчас на Десятую Международную Конференцию по\n",
      "  Unicode, которая состоится 10-12 марта 1997 года в Майнце в Германии.\n",
      "  Конференция соберет широкий круг экспертов по  вопросам глобального\n",
      "  Интернета и Unicode, локализации и интернационализации, воплощению и\n",
      "  применению Unicode в различных операционных системах и программных\n",
      "  приложениях, шрифтах, верстке и многоязычных компьютерных системах.\n",
      "\n",
      "Thai (UCS Level 2):\n",
      "\n",
      "  Excerpt from a poetry on The Romance of The Three Kingdoms (a Chinese\n",
      "  classic 'San Gua'):\n",
      "\n",
      "  [----------------------------|------------------------]\n",
      "    ๏ แผ่นดินฮั่นเสื่อมโทรมแสนสังเวช  พระปกเกศกองบู๊กู้ขึ้นใหม่\n",
      "  สิบสองกษัตริย์ก่อนหน้าแลถัดไป       สององค์ไซร้โง่เขลาเบาปัญญา\n",
      "    ทรงนับถือขันทีเป็นที่พึ่ง           บ้านเมืองจึงวิปริตเป็นนักหนา\n",
      "  โฮจิ๋นเรียกทัพทั่วหัวเมืองมา         หมายจะฆ่ามดชั่วตัวสำคัญ\n",
      "    เหมือนขับไสไล่เสือจากเคหา      รับหมาป่าเข้ามาเลยอาสัญ\n",
      "  ฝ่ายอ้องอุ้นยุแยกให้แตกกัน          ใช้สาวนั้นเป็นชนวนชื่นชวนใจ\n",
      "    พลันลิฉุยกุยกีกลับก่อเหตุ          ช่างอาเพศจริงหนาฟ้าร้องไห้\n",
      "  ต้องรบราฆ่าฟันจนบรรลัย           ฤๅหาใครค้ำชูกู้บรรลังก์ ฯ\n",
      "\n",
      "  (The above is a two-column text. If combining characters are handled\n",
      "  correctly, the lines of the second column should be aligned with the\n",
      "  | character above.)\n",
      "\n",
      "Ethiopian:\n",
      "\n",
      "  Proverbs in the Amharic language:\n",
      "\n",
      "  ሰማይ አይታረስ ንጉሥ አይከሰስ።\n",
      "  ብላ ካለኝ እንደአባቴ በቆመጠኝ።\n",
      "  ጌጥ ያለቤቱ ቁምጥና ነው።\n",
      "  ደሀ በሕልሙ ቅቤ ባይጠጣ ንጣት በገደለው።\n",
      "  የአፍ ወለምታ በቅቤ አይታሽም።\n",
      "  አይጥ በበላ ዳዋ ተመታ።\n",
      "  ሲተረጉሙ ይደረግሙ።\n",
      "  ቀስ በቀስ፥ ዕንቁላል በእግሩ ይሄዳል።\n",
      "  ድር ቢያብር አንበሳ ያስር።\n",
      "  ሰው እንደቤቱ እንጅ እንደ ጉረቤቱ አይተዳደርም።\n",
      "  እግዜር የከፈተውን ጉሮሮ ሳይዘጋው አይድርም።\n",
      "  የጎረቤት ሌባ፥ ቢያዩት ይስቅ ባያዩት ያጠልቅ።\n",
      "  ሥራ ከመፍታት ልጄን ላፋታት።\n",
      "  ዓባይ ማደሪያ የለው፥ ግንድ ይዞ ይዞራል።\n",
      "  የእስላም አገሩ መካ የአሞራ አገሩ ዋርካ።\n",
      "  ተንጋሎ ቢተፉ ተመልሶ ባፉ።\n",
      "  ወዳጅህ ማር ቢሆን ጨርስህ አትላሰው።\n",
      "  እግርህን በፍራሽህ ልክ ዘርጋ።\n",
      "\n",
      "Runes:\n",
      "\n",
      "  ᚻᛖ ᚳᚹᚫᚦ ᚦᚫᛏ ᚻᛖ ᛒᚢᛞᛖ ᚩᚾ ᚦᚫᛗ ᛚᚪᚾᛞᛖ ᚾᚩᚱᚦᚹᛖᚪᚱᛞᚢᛗ ᚹᛁᚦ ᚦᚪ ᚹᛖᛥᚫ\n",
      "\n",
      "  (Old English, which transcribed into Latin reads 'He cwaeth that he\n",
      "  bude thaem lande northweardum with tha Westsae.' and means 'He said\n",
      "  that he lived in the northern land near the Western Sea.')\n",
      "\n",
      "Braille:\n",
      "\n",
      "  ⡌⠁⠧⠑ ⠼⠁⠒  ⡍⠜⠇⠑⠹⠰⠎ ⡣⠕⠌\n",
      "\n",
      "  ⡍⠜⠇⠑⠹ ⠺⠁⠎ ⠙⠑⠁⠙⠒ ⠞⠕ ⠃⠑⠛⠔ ⠺⠊⠹⠲ ⡹⠻⠑ ⠊⠎ ⠝⠕ ⠙⠳⠃⠞\n",
      "  ⠱⠁⠞⠑⠧⠻ ⠁⠃⠳⠞ ⠹⠁⠞⠲ ⡹⠑ ⠗⠑⠛⠊⠌⠻ ⠕⠋ ⠙⠊⠎ ⠃⠥⠗⠊⠁⠇ ⠺⠁⠎\n",
      "  ⠎⠊⠛⠝⠫ ⠃⠹ ⠹⠑ ⠊⠇⠻⠛⠹⠍⠁⠝⠂ ⠹⠑ ⠊⠇⠻⠅⠂ ⠹⠑ ⠥⠝⠙⠻⠞⠁⠅⠻⠂\n",
      "  ⠁⠝⠙ ⠹⠑ ⠡⠊⠑⠋ ⠍⠳⠗⠝⠻⠲ ⡎⠊⠗⠕⠕⠛⠑ ⠎⠊⠛⠝⠫ ⠊⠞⠲ ⡁⠝⠙\n",
      "  ⡎⠊⠗⠕⠕⠛⠑⠰⠎ ⠝⠁⠍⠑ ⠺⠁⠎ ⠛⠕⠕⠙ ⠥⠏⠕⠝ ⠰⡡⠁⠝⠛⠑⠂ ⠋⠕⠗ ⠁⠝⠹⠹⠔⠛ ⠙⠑\n",
      "  ⠡⠕⠎⠑ ⠞⠕ ⠏⠥⠞ ⠙⠊⠎ ⠙⠁⠝⠙ ⠞⠕⠲\n",
      "\n",
      "  ⡕⠇⠙ ⡍⠜⠇⠑⠹ ⠺⠁⠎ ⠁⠎ ⠙⠑⠁⠙ ⠁⠎ ⠁ ⠙⠕⠕⠗⠤⠝⠁⠊⠇⠲\n",
      "\n",
      "  ⡍⠔⠙⠖ ⡊ ⠙⠕⠝⠰⠞ ⠍⠑⠁⠝ ⠞⠕ ⠎⠁⠹ ⠹⠁⠞ ⡊ ⠅⠝⠪⠂ ⠕⠋ ⠍⠹\n",
      "  ⠪⠝ ⠅⠝⠪⠇⠫⠛⠑⠂ ⠱⠁⠞ ⠹⠻⠑ ⠊⠎ ⠏⠜⠞⠊⠊⠥⠇⠜⠇⠹ ⠙⠑⠁⠙ ⠁⠃⠳⠞\n",
      "  ⠁ ⠙⠕⠕⠗⠤⠝⠁⠊⠇⠲ ⡊ ⠍⠊⠣⠞ ⠙⠁⠧⠑ ⠃⠑⠲ ⠔⠊⠇⠔⠫⠂ ⠍⠹⠎⠑⠇⠋⠂ ⠞⠕\n",
      "  ⠗⠑⠛⠜⠙ ⠁ ⠊⠕⠋⠋⠔⠤⠝⠁⠊⠇ ⠁⠎ ⠹⠑ ⠙⠑⠁⠙⠑⠌ ⠏⠊⠑⠊⠑ ⠕⠋ ⠊⠗⠕⠝⠍⠕⠝⠛⠻⠹\n",
      "  ⠔ ⠹⠑ ⠞⠗⠁⠙⠑⠲ ⡃⠥⠞ ⠹⠑ ⠺⠊⠎⠙⠕⠍ ⠕⠋ ⠳⠗ ⠁⠝⠊⠑⠌⠕⠗⠎\n",
      "  ⠊⠎ ⠔ ⠹⠑ ⠎⠊⠍⠊⠇⠑⠆ ⠁⠝⠙ ⠍⠹ ⠥⠝⠙⠁⠇⠇⠪⠫ ⠙⠁⠝⠙⠎\n",
      "  ⠩⠁⠇⠇ ⠝⠕⠞ ⠙⠊⠌⠥⠗⠃ ⠊⠞⠂ ⠕⠗ ⠹⠑ ⡊⠳⠝⠞⠗⠹⠰⠎ ⠙⠕⠝⠑ ⠋⠕⠗⠲ ⡹⠳\n",
      "  ⠺⠊⠇⠇ ⠹⠻⠑⠋⠕⠗⠑ ⠏⠻⠍⠊⠞ ⠍⠑ ⠞⠕ ⠗⠑⠏⠑⠁⠞⠂ ⠑⠍⠏⠙⠁⠞⠊⠊⠁⠇⠇⠹⠂ ⠹⠁⠞\n",
      "  ⡍⠜⠇⠑⠹ ⠺⠁⠎ ⠁⠎ ⠙⠑⠁⠙ ⠁⠎ ⠁ ⠙⠕⠕⠗⠤⠝⠁⠊⠇⠲\n",
      "\n",
      "  (The first couple of paragraphs of \"A Christmas Carol\" by Dickens)\n",
      "\n",
      "Compact font selection example text:\n",
      "\n",
      "  ABCDEFGHIJKLMNOPQRSTUVWXYZ /0123456789\n",
      "  abcdefghijklmnopqrstuvwxyz £©µÀÆÖÞßéöÿ\n",
      "  –—‘“”„†•…‰™œŠŸž€ ΑΒΓΔΩαβγδω АБВГДабвгд\n",
      "  ∀∂∈ℝ∧∪≡∞ ↑↗↨↻⇣ ┐┼╔╘░►☺♀ ﬁ�⑀₂ἠḂӥẄɐː⍎אԱა\n",
      "\n",
      "Greetings in various languages:\n",
      "\n",
      "  Hello world, Καλημέρα κόσμε, コンニチハ\n",
      "\n",
      "Box drawing alignment tests:                                          █\n",
      "                                                                      ▉\n",
      "  ╔══╦══╗  ┌──┬──┐  ╭──┬──╮  ╭──┬──╮  ┏━━┳━━┓  ┎┒┏┑   ╷  ╻ ┏┯┓ ┌┰┐    ▊ ╱╲╱╲╳╳╳\n",
      "  ║┌─╨─┐║  │╔═╧═╗│  │╒═╪═╕│  │╓─╁─╖│  ┃┌─╂─┐┃  ┗╃╄┙  ╶┼╴╺╋╸┠┼┨ ┝╋┥    ▋ ╲╱╲╱╳╳╳\n",
      "  ║│╲ ╱│║  │║   ║│  ││ │ ││  │║ ┃ ║│  ┃│ ╿ │┃  ┍╅╆┓   ╵  ╹ ┗┷┛ └┸┘    ▌ ╱╲╱╲╳╳╳\n",
      "  ╠╡ ╳ ╞╣  ├╢   ╟┤  ├┼─┼─┼┤  ├╫─╂─╫┤  ┣┿╾┼╼┿┫  ┕┛┖┚     ┌┄┄┐ ╎ ┏┅┅┓ ┋ ▍ ╲╱╲╱╳╳╳\n",
      "  ║│╱ ╲│║  │║   ║│  ││ │ ││  │║ ┃ ║│  ┃│ ╽ │┃  ░░▒▒▓▓██ ┊  ┆ ╎ ╏  ┇ ┋ ▎\n",
      "  ║└─╥─┘║  │╚═╤═╝│  │╘═╪═╛│  │╙─╀─╜│  ┃└─╂─┘┃  ░░▒▒▓▓██ ┊  ┆ ╎ ╏  ┇ ┋ ▏\n",
      "  ╚══╩══╝  └──┴──┘  ╰──┴──╯  ╰──┴──╯  ┗━━┻━━┛  ▗▄▖▛▀▜   └╌╌┘ ╎ ┗╍╍┛ ┋  ▁▂▃▄▅▆▇█\n",
      "                                               ▝▀▘▙▄▟\n",
      "\n",
      "</pre>"
     ]
    }
   ],
   "source": [
    "!curl http://httpbin.org/encoding/utf8"
   ]
  },
  {
   "cell_type": "code",
   "execution_count": 2,
   "metadata": {
    "collapsed": false
   },
   "outputs": [
    {
     "data": {
      "text/plain": [
       "u'<h1>Unicode Demo</h1>\\n\\n<p>Taken from <a\\nhref=\"http://www.cl.cam.ac.uk/~mgk25/ucs/examples/UTF-8-demo.txt\">http://www.cl.cam.ac.uk/~mgk25/ucs/examples/UTF-8-demo.txt</a></p>\\n\\n<pre>\\n\\nUTF-8 encoded sample plain-text file\\n\\u203e\\u203e\\u203e\\u203e\\u203e\\u203e\\u203e\\u203e\\u203e\\u203e\\u203e\\u203e\\u203e\\u203e\\u203e\\u203e\\u203e\\u203e\\u203e\\u203e\\u203e\\u203e\\u203e\\u203e\\u203e\\u203e\\u203e\\u203e\\u203e\\u203e\\u203e\\u203e\\u203e\\u203e\\u203e\\u203e\\n\\nMarkus Kuhn [\\u02c8ma\\u02b3k\\u028as ku\\u02d0n] <http://www.cl.cam.ac.uk/~mgk25/> \\u2014 2002-07-25\\n\\n\\nThe ASCII compatible UTF-8 encoding used in this plain-text file\\nis defined in Unicode, ISO 10646-1, and RFC 2279.\\n\\n\\nUsing Unicode/UTF-8, you can write in emails and so'"
      ]
     },
     "execution_count": 2,
     "metadata": {},
     "output_type": "execute_result"
    }
   ],
   "source": [
    "import requests\n",
    "r= requests.get(\"http://httpbin.org/encoding/utf8\")\n",
    "r.text[0:500]\n"
   ]
  },
  {
   "cell_type": "code",
   "execution_count": 3,
   "metadata": {
    "collapsed": false
   },
   "outputs": [
    {
     "data": {
      "text/plain": [
       "('ko_KR', 'UTF-8')"
      ]
     },
     "execution_count": 3,
     "metadata": {},
     "output_type": "execute_result"
    }
   ],
   "source": [
    "##운영체제에서 인코딩하는방식\n",
    "import locale\n",
    "locale.getdefaultlocale()"
   ]
  },
  {
   "cell_type": "code",
   "execution_count": 5,
   "metadata": {
    "collapsed": false
   },
   "outputs": [
    {
     "name": "stdout",
     "output_type": "stream",
     "text": [
      "LANG=\"ko_KR.UTF-8\"\r\n",
      "LC_COLLATE=\"ko_KR.UTF-8\"\r\n",
      "LC_CTYPE=\"ko_KR.UTF-8\"\r\n",
      "LC_MESSAGES=\"ko_KR.UTF-8\"\r\n",
      "LC_MONETARY=\"ko_KR.UTF-8\"\r\n",
      "LC_NUMERIC=\"ko_KR.UTF-8\"\r\n",
      "LC_TIME=\"ko_KR.UTF-8\"\r\n",
      "LC_ALL=\r\n"
     ]
    }
   ],
   "source": [
    "!locale\n",
    "\n"
   ]
  },
  {
   "cell_type": "code",
   "execution_count": 6,
   "metadata": {
    "collapsed": false
   },
   "outputs": [
    {
     "name": "stdout",
     "output_type": "stream",
     "text": [
      "<h1>Unicode Demo</h1>\n",
      "\n",
      "<p>Taken from <a\n",
      "href=\"http://www.cl.cam.ac.uk/~mgk25/ucs/examples/UTF-8-demo.txt\">http://www.cl.cam.ac.uk/~mgk25/ucs/examples/UTF-8-demo.txt</a></p>\n",
      "\n",
      "<pre>\n",
      "\n",
      "UTF-8 encoded sample plain-text file\n",
      "‾‾‾‾‾‾‾‾‾‾‾‾‾‾‾‾‾‾‾‾‾‾‾‾‾‾‾‾‾‾‾‾‾‾‾‾\n",
      "\n",
      "Markus Kuhn [ˈmaʳkʊs kuːn] <http://www.cl.cam.ac.uk/~mgk25/> — 2002-07-25\n",
      "\n",
      "\n",
      "The ASCII compatible UTF-8 encoding used in this plain-text file\n",
      "is defined in Unicode, ISO 10646-1, and RFC 2279.\n",
      "\n",
      "\n",
      "Using Unicode/UTF-8, you can write in emails and so\n"
     ]
    }
   ],
   "source": [
    "teststr=r.text[0:500]\n",
    "print teststr"
   ]
  },
  {
   "cell_type": "code",
   "execution_count": 7,
   "metadata": {
    "collapsed": false
   },
   "outputs": [
    {
     "name": "stdout",
     "output_type": "stream",
     "text": [
      "UTF-8\n"
     ]
    }
   ],
   "source": [
    "import sys ,locale\n",
    "print locale.getpreferredencoding()"
   ]
  },
  {
   "cell_type": "code",
   "execution_count": 8,
   "metadata": {
    "collapsed": false
   },
   "outputs": [
    {
     "data": {
      "text/plain": [
       "'\\xed\\x95\\x9c'"
      ]
     },
     "execution_count": 8,
     "metadata": {},
     "output_type": "execute_result"
    }
   ],
   "source": [
    "str('한')\n"
   ]
  },
  {
   "cell_type": "markdown",
   "metadata": {},
   "source": [
    "15페이지 윈도우에서 해보기!"
   ]
  },
  {
   "cell_type": "code",
   "execution_count": 15,
   "metadata": {
    "collapsed": false
   },
   "outputs": [
    {
     "data": {
      "text/plain": [
       "u'\\ud55c'"
      ]
     },
     "execution_count": 15,
     "metadata": {},
     "output_type": "execute_result"
    }
   ],
   "source": [
    "'한'.decode('utf-8')"
   ]
  }
 ],
 "metadata": {
  "kernelspec": {
   "display_name": "Python 2",
   "language": "python",
   "name": "python2"
  },
  "language_info": {
   "codemirror_mode": {
    "name": "ipython",
    "version": 2
   },
   "file_extension": ".py",
   "mimetype": "text/x-python",
   "name": "python",
   "nbconvert_exporter": "python",
   "pygments_lexer": "ipython2",
   "version": "2.7.13"
  }
 },
 "nbformat": 4,
 "nbformat_minor": 2
}
