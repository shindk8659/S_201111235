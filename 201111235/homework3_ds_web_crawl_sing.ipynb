{
 "cells": [
  {
   "cell_type": "code",
   "execution_count": 5,
   "metadata": {
    "collapsed": false
   },
   "outputs": [
    {
     "name": "stdout",
     "output_type": "stream",
     "text": [
      "Overwriting src/ds_web_crawl_4.py\n"
     ]
    }
   ],
   "source": [
    "%%writefile src/ds_web_crawl_4.py\n",
    "# coding: utf-8\n",
    "import lxml.html\n",
    "import requests\n",
    "from lxml.cssselect import CSSSelector\n",
    "\n",
    "keyword='사랑해'\n",
    "r = requests.get(\"http://music.naver.com/search/search.nhn?query=\"+keyword+\"&x=0&y=0\")\n",
    "_html = lxml.html.fromstring(r.text)\n",
    "\n",
    "sel = CSSSelector('table[summary] > tbody > ._tracklist_move')\n",
    "\n",
    "nodes = sel(_html)\n",
    "\n",
    "_selName = CSSSelector('.name > a.title')\n",
    "_selArtist = CSSSelector('._artist.artist')\n",
    "_selAlbum= CSSSelector('.album > a')\n",
    "print \"-----------------------노래제목,가수,앨범명 검색-----------------------\"\n",
    "for node in nodes:\n",
    "    \n",
    "    _name=_selName(node)\n",
    "    _artist=_selArtist(node)\n",
    "    _album=_selAlbum(node)\n",
    "    if _name:\n",
    "        print _artist[0].text_content().strip(),\n",
    "        print \"---\",\n",
    "        print _name[0].text_content(),\n",
    "        print \"---\",\n",
    "        print _album[0].text_content()\n",
    "        \n",
    "\n",
    "print \"-----------------------노래제목만 검색-----------------------\"\n",
    "sel2 = CSSSelector('#content > div:nth-child(4) \\\n",
    "    > div._tracklist_mytrack.tracklist_table.tracklist_type1._searchTrack \\\n",
    "    > table > tbody > tr > td.name > a.title')\n",
    "\n",
    "nodes = sel2(_html)\n",
    "\n",
    "for node in nodes:\n",
    "    print node.text_content()"
   ]
  }
 ],
 "metadata": {
  "kernelspec": {
   "display_name": "Python 2",
   "language": "python",
   "name": "python2"
  },
  "language_info": {
   "codemirror_mode": {
    "name": "ipython",
    "version": 2
   },
   "file_extension": ".py",
   "mimetype": "text/x-python",
   "name": "python",
   "nbconvert_exporter": "python",
   "pygments_lexer": "ipython2",
   "version": "2.7.13"
  }
 },
 "nbformat": 4,
 "nbformat_minor": 2
}
