{
 "cells": [
  {
   "cell_type": "code",
   "execution_count": 6,
   "metadata": {
    "collapsed": false
   },
   "outputs": [
    {
     "name": "stdout",
     "output_type": "stream",
     "text": [
      "{'id': '405', 'name': 'js'}\n",
      "{'id': '405', '\\xec\\x9d\\xb4\\xeb\\xa6\\x84': 'js'}\n",
      "{u'\\uc774\\ub984': 'js', 'id': '405'}\n"
     ]
    }
   ],
   "source": [
    "import json\n",
    "\n",
    "user1={ \"id\": \"405\", \"name\": \"js\" }\n",
    "user2={ \"id\": \"405\", \"이름\": \"js\" }\n",
    "user3={ \"id\": \"405\", u\"이름\": \"js\" }\n",
    "\n",
    "print user1\n",
    "print user2\n",
    "print user3"
   ]
  },
  {
   "cell_type": "code",
   "execution_count": 2,
   "metadata": {
    "collapsed": false
   },
   "outputs": [
    {
     "name": "stdout",
     "output_type": "stream",
     "text": [
      "이\n",
      "236\n",
      "0xec\n"
     ]
    }
   ],
   "source": [
    "print '\\xec\\x9d\\xb4'\n",
    "print ord('\\xec')\n",
    "print hex(ord('\\xec'))"
   ]
  },
  {
   "cell_type": "code",
   "execution_count": 7,
   "metadata": {
    "collapsed": false
   },
   "outputs": [
    {
     "name": "stdout",
     "output_type": "stream",
     "text": [
      "<type 'dict'>\n"
     ]
    }
   ],
   "source": [
    "print type(user1)"
   ]
  },
  {
   "cell_type": "code",
   "execution_count": 8,
   "metadata": {
    "collapsed": false
   },
   "outputs": [
    {
     "name": "stdout",
     "output_type": "stream",
     "text": [
      "{'Persons': [{'id': '405', 'name': 'js1'}, {'id': '406', 'name': 'js2'}]}\n"
     ]
    }
   ],
   "source": [
    "import json\n",
    "\n",
    "p={\"Persons\":[\n",
    "    {\"id\":\"405\", \"name\":\"js1\"},\n",
    "    {\"id\":\"406\", \"name\":\"js2\"},\n",
    "]}\n",
    "\n",
    "print p"
   ]
  },
  {
   "cell_type": "markdown",
   "metadata": {},
   "source": [
    "jason 파일쓰기\n"
   ]
  },
  {
   "cell_type": "code",
   "execution_count": 11,
   "metadata": {
    "collapsed": false
   },
   "outputs": [
    {
     "name": "stdout",
     "output_type": "stream",
     "text": [
      "Overwriting src/ds_save_persons.json\n"
     ]
    }
   ],
   "source": [
    "%%writefile src/ds_save_persons.json\n",
    "import json\n",
    "\n",
    "p={\"Persons\":[\n",
    "    {\"id\":\"405\", \"이름\":\"js1\"},\n",
    "    {\"id\":\"406\", \"이름\":\"js2\"},\n",
    "]}\n",
    "\n",
    "print json.dumps(p)"
   ]
  },
  {
   "cell_type": "code",
   "execution_count": 13,
   "metadata": {
    "collapsed": false
   },
   "outputs": [],
   "source": [
    "import io, json\n",
    "with io.open('src/ds_save_persons.json', 'w', encoding='utf8') as json_file:\n",
    "    data=json.dumps(p, json_file, ensure_ascii=False, encoding='utf8')\n",
    "    json_file.write(data)"
   ]
  },
  {
   "cell_type": "raw",
   "metadata": {},
   "source": [
    "MongoDB\n",
    "\n",
    "admin ->DB :생성 삭제  Table:생성,수정,삭제,조회 CUDR\n",
    "\n"
   ]
  },
  {
   "cell_type": "code",
   "execution_count": 14,
   "metadata": {
    "collapsed": false
   },
   "outputs": [
    {
     "name": "stdout",
     "output_type": "stream",
     "text": [
      "Writing src/ds_save_mongo_test.js\n"
     ]
    }
   ],
   "source": [
    "%%writefile src/ds_save_mongo_test.js\n",
    "use test\n",
    "db.testCollection.insert({x:1})\n",
    "db.testCollection.find()\n",
    "db.stats()"
   ]
  },
  {
   "cell_type": "raw",
   "metadata": {},
   "source": [
    "batch :정의 ,조작"
   ]
  },
  {
   "cell_type": "code",
   "execution_count": 15,
   "metadata": {
    "collapsed": false
   },
   "outputs": [
    {
     "name": "stdout",
     "output_type": "stream",
     "text": [
      "Writing src/ds_save_mongo_5.js\n"
     ]
    }
   ],
   "source": [
    "%%writefile src/ds_save_mongo_5.js\n",
    "use myDB\n",
    "show dbs\n",
    "show tables\n",
    "db.myCol.insert({\"Persons\":[{\"id\":\"405\", \"이름\":\"js1\"},{\"id\":\"406\", \"이름\":\"js2\"}]})\n",
    "db.myCol.find({ \"Persons.이름\": \"js1\" })"
   ]
  }
 ],
 "metadata": {
  "kernelspec": {
   "display_name": "Python 2",
   "language": "python",
   "name": "python2"
  },
  "language_info": {
   "codemirror_mode": {
    "name": "ipython",
    "version": 2
   },
   "file_extension": ".py",
   "mimetype": "text/x-python",
   "name": "python",
   "nbconvert_exporter": "python",
   "pygments_lexer": "ipython2",
   "version": "2.7.13"
  }
 },
 "nbformat": 4,
 "nbformat_minor": 2
}
