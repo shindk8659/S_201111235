{
 "cells": [
  {
   "cell_type": "code",
   "execution_count": 7,
   "metadata": {
    "collapsed": false
   },
   "outputs": [],
   "source": [
    "import lxml.html\n",
    "from lxml.cssselect import CSSSelector\n",
    "import requests\n",
    "r = requests.get('http://www.ieee.org/conferences_events/conferences/search/index.html')\n",
    "\n",
    "html = lxml.html.fromstring(r.text)"
   ]
  },
  {
   "cell_type": "code",
   "execution_count": 8,
   "metadata": {
    "collapsed": false
   },
   "outputs": [
    {
     "name": "stdout",
     "output_type": "stream",
     "text": [
      "<html lang=\"en-us\" xmlns=\"http://www.w3.org/1999/xhtml\" xml:lang=\"en-us\">\r\n",
      "<head><meta http-equiv=\"c\n"
     ]
    }
   ],
   "source": [
    "print lxml.html.tostring(html)[:100]"
   ]
  },
  {
   "cell_type": "code",
   "execution_count": 9,
   "metadata": {
    "collapsed": false
   },
   "outputs": [
    {
     "name": "stdout",
     "output_type": "stream",
     "text": [
      "66\n"
     ]
    }
   ],
   "source": [
    "sel=CSSSelector('div.content-r-full table.nogrid-nopad tr p>a[href]')\n",
    "nodes = sel(html)\n",
    "print len(nodes)"
   ]
  },
  {
   "cell_type": "code",
   "execution_count": 23,
   "metadata": {
    "collapsed": false
   },
   "outputs": [
    {
     "name": "stdout",
     "output_type": "stream",
     "text": [
      "None\n",
      "----------\n",
      "None\n",
      "----------\n",
      "None\n",
      "----------\n",
      "None\n",
      "----------\n",
      "None\n",
      "----------\n",
      "None\n",
      "----------\n",
      "2029 IEEE/MTT-S International Microwave Symposium - IMS 2029\n",
      "----------\n",
      "31 May - 08 Jun 2029\n",
      "----------\n",
      "Boston Convention and Exhibition Center\n",
      "----------\n",
      "2025 IEEE/MTT-S International Microwave Symposium - IMS 2025\n",
      "----------\n"
     ]
    }
   ],
   "source": [
    "for node in nodes[:10]:\n",
    "    print node.text\n",
    "    print \"----------\"\n",
    "    #print lxml.html.tostring(node)"
   ]
  },
  {
   "cell_type": "code",
   "execution_count": 2,
   "metadata": {
    "collapsed": false
   },
   "outputs": [
    {
     "name": "stdout",
     "output_type": "stream",
     "text": [
      "Overwriting src/ds_web_crawl_5.py\n"
     ]
    }
   ],
   "source": [
    "%%writefile src/ds_web_crawl_5.py\n",
    "# coding: utf-8\n",
    "import lxml.html\n",
    "from lxml.cssselect import CSSSelector\n",
    "import requests\n",
    "r = requests.get('http://www.ieee.org/conferences_events/conferences/search/index.html')\n",
    "\n",
    "html = lxml.html.fromstring(r.text)\n",
    "sel=CSSSelector('div.content-r-full table.nogrid-nopad tr p>a[href]')\n",
    "nodes = sel(html)\n",
    "for node in nodes:\n",
    "    print node.text\n",
    "    print \"----------\""
   ]
  },
  {
   "cell_type": "code",
   "execution_count": 13,
   "metadata": {
    "collapsed": false
   },
   "outputs": [
    {
     "name": "stdout",
     "output_type": "stream",
     "text": [
      "None\n",
      "----------\n",
      "None\n",
      "----------\n",
      "None\n",
      "----------\n",
      "None\n",
      "----------\n",
      "None\n",
      "----------\n",
      "None\n",
      "----------\n",
      "2029 IEEE/MTT-S International Microwave Symposium - IMS 2029\n",
      "----------\n",
      "31 May - 08 Jun 2029\n",
      "----------\n",
      "Boston Convention and Exhibition Center\n",
      "----------\n",
      "2025 IEEE/MTT-S International Microwave Symposium - IMS 2025\n",
      "----------\n",
      "15 Jun - 20 Jun 2025\n",
      "----------\n",
      "Moscone Convention Center\n",
      "----------\n",
      "2024 IEEE/MTT-S International Microwave Symposium - IMS 2024\n",
      "----------\n",
      "16 Jun - 21 Jun 2024\n",
      "----------\n",
      "Walter E. Washington Convention Center\n",
      "----------\n",
      "2023 Annual International Conference of the IEEE Engineering in Medicine & Biology Conference (EMBC)\n",
      "----------\n",
      "25 Jul - 29 Jul 2023\n",
      "----------\n",
      "International Convention Centre Sydney (ICC Sydney)\n",
      "----------\n",
      "2023 IEEE/MTT-S International Microwave Symposium - MTT 2023\n",
      "----------\n",
      "11 Jun - 16 Jun 2023\n",
      "----------\n",
      "San Diego Convention Center\n",
      "----------\n",
      "2022 IEEE International Symposium on Electromagnetic Compatibility & Signal/Power Integrity (EMCSI)\n",
      "----------\n",
      "25 Jul - 29 Jul 2022\n",
      "----------\n",
      "raleigh CC\n",
      "----------\n",
      "2022 IEEE/MTT-S International Microwave Symposium - MTT 2022\n",
      "----------\n",
      "12 Jun - 17 Jun 2022\n",
      "----------\n",
      "Colorado Convention Center\n",
      "----------\n",
      "2022 59th ACM/EDAC/IEEE Design Automation Conference (DAC)\n",
      "----------\n",
      "06 Jun - 10 Jun 2022\n",
      "----------\n",
      "Moscone Center\n",
      "----------\n",
      "2022 Annual Conference on Magnetism and Magnetic Materials (MMM)\n",
      "----------\n",
      "10 Jan - 14 Jan 2022\n",
      "----------\n",
      "Hyatt Regency New Orleans\n",
      "----------\n",
      "2021 IEEE International Electron Devices Meeting (IEDM)\n",
      "----------\n",
      "13 Dec - 15 Dec 2021\n",
      "----------\n",
      "Hilton San Francisco Union Square\n",
      "----------\n",
      "2021 IEEE International Symposium on Electromagnetic Compatibility & Signal/Power Integrity (EMCSI)\n",
      "----------\n",
      "27 Jul - 31 Jul 2021\n",
      "----------\n",
      "Raleigh convention center\n",
      "----------\n",
      "2021 IEEE/MTT-S International Microwave Symposium - MTT 2021\n",
      "----------\n",
      "20 Jun - 24 Jun 2021\n",
      "----------\n",
      "Georgia World Congress Center\n",
      "----------\n",
      "2021 IEEE International Conference on Plasma Science (ICOPS)\n",
      "----------\n",
      "20 Jun - 25 Jun 2021\n",
      "----------\n",
      "Harvey's & Harrah's\n",
      "----------\n",
      "2021 58th ACM/EDAC/IEEE Design Automation Conference (DAC)\n",
      "----------\n",
      "07 Jun - 11 Jun 2021\n",
      "----------\n",
      "Moscone Center\n",
      "----------\n",
      "2021 IEEE 71st Electronic Components and Technologies Conference (ECTC)\n",
      "----------\n",
      "01 Jun - 04 Jun 2021\n",
      "----------\n",
      "Sheraton San diego Hotel & Marina\n",
      "----------\n",
      "2021 IEEE Pulsed Power Conference (PPC)\n",
      "----------\n",
      "01 Jun - 04 Jun 2021\n",
      "----------\n",
      "Sheraton Denver Downtown Hotel\n",
      "----------\n",
      "2021 IEEE Symposium on Security and Privacy (SP)\n",
      "----------\n",
      "23 May - 27 May 2021\n",
      "----------\n",
      "Hyatt Regency San Francisco\n",
      "----------\n",
      "2021 IEEE International Workshop Technical Committee on Communications Quality and\n",
      "Reliability (CQR 2021)\n",
      "----------\n",
      "09 May - 14 May 2021\n",
      "----------\n",
      "Naples Beach Hotel & Golf Club\n",
      "----------\n",
      "ICASSP 2021 - 2021 IEEE International Conference on Acoustics, Speech and Signal Processing (ICASSP)\n",
      "----------\n",
      "25 Apr - 30 Apr 2021\n",
      "----------\n",
      "Metro Toronto Convention Centre\n",
      "----------\n",
      "2021 IEEE Applied Power Electronics Conference and Exposition (APEC)\n",
      "----------\n",
      "21 Mar - 25 Mar 2021\n",
      "----------\n",
      "Phoenix Convention Center\n",
      "----------\n"
     ]
    }
   ],
   "source": [
    "!python ds_web_crawl_ieee.py"
   ]
  }
 ],
 "metadata": {
  "kernelspec": {
   "display_name": "Python 2",
   "language": "python",
   "name": "python2"
  },
  "language_info": {
   "codemirror_mode": {
    "name": "ipython",
    "version": 2
   },
   "file_extension": ".py",
   "mimetype": "text/x-python",
   "name": "python",
   "nbconvert_exporter": "python",
   "pygments_lexer": "ipython2",
   "version": "2.7.13"
  }
 },
 "nbformat": 4,
 "nbformat_minor": 2
}
