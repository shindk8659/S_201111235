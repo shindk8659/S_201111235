{
 "cells": [
  {
   "cell_type": "code",
   "execution_count": 8,
   "metadata": {
    "collapsed": false
   },
   "outputs": [],
   "source": [
    "import os\n",
    "import sys \n",
    "os.environ[\"SPARK_HOME\"]=\"C:/Users/DongkyuShin/Downloads/spark-2.0.0-bin-hadoop2.6\"\n",
    "os.environ[\"PYLIB\"]=os.path.join(os.environ[\"SPARK_HOME\"],'python','lib')\n",
    "sys.path.insert(0,os.path.join(os.environ[\"PYLIB\"],'py4j-0.10.1-src.zip'))\n",
    "sys.path.insert(0,os.path.join(os.environ[\"PYLIB\"],'pyspark.zip'))"
   ]
  },
  {
   "cell_type": "code",
   "execution_count": 9,
   "metadata": {
    "collapsed": false
   },
   "outputs": [
    {
     "name": "stdout",
     "output_type": "stream",
     "text": [
      "C:/Users/DongkyuShin/Downloads/spark-2.0.0-bin-hadoop2.6\\python\\lib\\pyspark.zip\n",
      "C:/Users/DongkyuShin/Downloads/spark-2.0.0-bin-hadoop2.6\\python\\lib\\py4j-0.10.1-src.zip\n",
      "\n",
      "C:\\Users\\DongkyuShin\\Anaconda2\\python27.zip\n",
      "C:\\Users\\DongkyuShin\\Anaconda2\\DLLs\n",
      "C:\\Users\\DongkyuShin\\Anaconda2\\lib\n",
      "C:\\Users\\DongkyuShin\\Anaconda2\\lib\\plat-win\n",
      "C:\\Users\\DongkyuShin\\Anaconda2\\lib\\lib-tk\n",
      "C:\\Users\\DongkyuShin\\Anaconda2\n",
      "C:\\Users\\DongkyuShin\\Anaconda2\\lib\\site-packages\n",
      "C:\\Users\\DongkyuShin\\Anaconda2\\lib\\site-packages\\Sphinx-1.5.1-py2.7.egg\n",
      "C:\\Users\\DongkyuShin\\Anaconda2\\lib\\site-packages\\win32\n",
      "C:\\Users\\DongkyuShin\\Anaconda2\\lib\\site-packages\\win32\\lib\n",
      "C:\\Users\\DongkyuShin\\Anaconda2\\lib\\site-packages\\Pythonwin\n",
      "C:\\Users\\DongkyuShin\\Anaconda2\\lib\\site-packages\\setuptools-27.2.0-py2.7.egg\n",
      "C:\\Users\\DongkyuShin\\Anaconda2\\lib\\site-packages\\IPython\\extensions\n",
      "C:\\Users\\DongkyuShin\\.ipython\n"
     ]
    }
   ],
   "source": [
    "for i in sys.path:\n",
    "    print i"
   ]
  },
  {
   "cell_type": "code",
   "execution_count": null,
   "metadata": {
    "collapsed": true
   },
   "outputs": [],
   "source": []
  }
 ],
 "metadata": {
  "kernelspec": {
   "display_name": "Python 2",
   "language": "python",
   "name": "python2"
  },
  "language_info": {
   "codemirror_mode": {
    "name": "ipython",
    "version": 2
   },
   "file_extension": ".py",
   "mimetype": "text/x-python",
   "name": "python",
   "nbconvert_exporter": "python",
   "pygments_lexer": "ipython2",
   "version": "2.7.13"
  }
 },
 "nbformat": 4,
 "nbformat_minor": 2
}
