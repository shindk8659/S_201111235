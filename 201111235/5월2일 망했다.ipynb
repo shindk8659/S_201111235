{
 "cells": [
  {
   "cell_type": "code",
   "execution_count": 9,
   "metadata": {
    "collapsed": false
   },
   "outputs": [
    {
     "name": "stdout",
     "output_type": "stream",
     "text": [
      "Overwriting src/ds_open_5.py\n"
     ]
    }
   ],
   "source": [
    "%%writefile src/ds_open_5.py\n",
    "import os\n",
    "import requests\n",
    "import mylib\n",
    "\n",
    "keyPath=os.path.join(os.getcwd(), 'src', 'key.properties')\n",
    "key=mylib.getKey(keyPath)\n",
    "_url='http://openAPI.seoul.go.kr:8088'\n",
    "_key=str(key['dataseoul'])\n",
    "_type='xml'\n",
    "_service='CardSubwayStatisticsService'\n",
    "_start_index=1\n",
    "_end_index=5\n",
    "_use_mon='201306'\n",
    "_api=os.path.join(_url,_key,_type,_service,str(_start_index),str(_end_index),_use_mon)\n",
    "response = requests.get(_api).text\n",
    "print response"
   ]
  },
  {
   "cell_type": "code",
   "execution_count": 10,
   "metadata": {
    "collapsed": false
   },
   "outputs": [
    {
     "name": "stdout",
     "output_type": "stream",
     "text": [
      "<?xml version=\"1.0\" encoding=\"UTF-8\"?>\r\n",
      "<CardSubwayStatisticsService>\r\n",
      "<list_total_count>530</list_total_count>\r\n",
      "<RESULT>\r\n",
      "<CODE>INFO-230</CODE>\r\n",
      "<MESSAGE>해당 서비스(OpenAPI)는 개방 취소된 서비스(OpenAPI)입니다.</MESSAGE>\r\n",
      "</RESULT>\r\n",
      "<row>\r\n",
      "<USE_MON>201306</USE_MON>\r\n",
      "<LINE_NUM>중앙선</LINE_NUM>\r\n",
      "<SUB_STA_NM>용문</SUB_STA_NM>\r\n",
      "<RIDE_PASGR_NUM>111275</RIDE_PASGR_NUM>\r\n",
      "<ALIGHT_PASGR_NUM>108878</ALIGHT_PASGR_NUM>\r\n",
      "<WORK_DT>20130723</WORK_DT>\r\n",
      "<COMMT/>\r\n",
      "</row>\r\n",
      "<row>\r\n",
      "<USE_MON>201306</USE_MON>\r\n",
      "<LINE_NUM>중앙선</LINE_NUM>\r\n",
      "<SUB_STA_NM>원덕</SUB_STA_NM>\r\n",
      "<RIDE_PASGR_NUM>11495</RIDE_PASGR_NUM>\r\n",
      "<ALIGHT_PASGR_NUM>10964</ALIGHT_PASGR_NUM>\r\n",
      "<WORK_DT>20130723</WORK_DT>\r\n",
      "<COMMT/>\r\n",
      "</row>\r\n",
      "<row>\r\n",
      "<USE_MON>201306</USE_MON>\r\n",
      "<LINE_NUM>중앙선</LINE_NUM>\r\n",
      "<SUB_STA_NM>양평</SUB_STA_NM>\r\n",
      "<RIDE_PASGR_NUM>118103</RIDE_PASGR_NUM>\r\n",
      "<ALIGHT_PASGR_NUM>116604</ALIGHT_PASGR_NUM>\r\n",
      "<WORK_DT>20130723</WORK_DT>\r\n",
      "<COMMT/>\r\n",
      "</row>\r\n",
      "<row>\r\n",
      "<USE_MON>201306</USE_MON>\r\n",
      "<LINE_NUM>중앙선</LINE_NUM>\r\n",
      "<SUB_STA_NM>오빈</SUB_STA_NM>\r\n",
      "<RIDE_PASGR_NUM>10590</RIDE_PASGR_NUM>\r\n",
      "<ALIGHT_PASGR_NUM>10020</ALIGHT_PASGR_NUM>\r\n",
      "<WORK_DT>20130723</WORK_DT>\r\n",
      "<COMMT/>\r\n",
      "</row>\r\n",
      "<row>\r\n",
      "<USE_MON>201306</USE_MON>\r\n",
      "<LINE_NUM>중앙선</LINE_NUM>\r\n",
      "<SUB_STA_NM>아신</SUB_STA_NM>\r\n",
      "<RIDE_PASGR_NUM>26304</RIDE_PASGR_NUM>\r\n",
      "<ALIGHT_PASGR_NUM>26358</ALIGHT_PASGR_NUM>\r\n",
      "<WORK_DT>20130723</WORK_DT>\r\n",
      "<COMMT/>\r\n",
      "</row>\r\n",
      "</CardSubwayStatisticsService>\r\n",
      "\r\n"
     ]
    }
   ],
   "source": [
    "!python src/ds_open_5.py"
   ]
  },
  {
   "cell_type": "code",
   "execution_count": 11,
   "metadata": {
    "collapsed": false
   },
   "outputs": [
    {
     "name": "stdout",
     "output_type": "stream",
     "text": [
      "Writing src/ds_open_6.py\n"
     ]
    }
   ],
   "source": [
    "%%writefile src/ds_open_6.py\n",
    "import os\n",
    "import requests\n",
    "import mylib\n",
    "\n",
    "keyPath=os.path.join(os.getcwd(), 'src', 'key.properties')\n",
    "key=mylib.getKey(keyPath)\n",
    "_url='http://openAPI.seoul.go.kr:8088'\n",
    "_key=str(key['dataseoul'])\n",
    "_type='xml'\n",
    "_service='CardSubwayStatisticsService'\n",
    "_start_index=1\n",
    "_end_index=5\n",
    "_use_mon='201306'\n",
    "_maxIter=2\n",
    "_iter=0\n",
    "while _iter<_maxIter:\n",
    "    _api=os.path.join(_url,_key,_type,_service,str(_start_index),str(_end_index),_use_mon)\n",
    "    #print _api\n",
    "    response = requests.get(_api).text\n",
    "    print response\n",
    "    _start_index+=5\n",
    "    _end_index+=5\n",
    "    _iter+=1"
   ]
  },
  {
   "cell_type": "code",
   "execution_count": 12,
   "metadata": {
    "collapsed": false
   },
   "outputs": [
    {
     "name": "stdout",
     "output_type": "stream",
     "text": [
      "<?xml version=\"1.0\" encoding=\"UTF-8\"?>\r\n",
      "<CardSubwayStatisticsService>\r\n",
      "<list_total_count>530</list_total_count>\r\n",
      "<RESULT>\r\n",
      "<CODE>INFO-230</CODE>\r\n",
      "<MESSAGE>해당 서비스(OpenAPI)는 개방 취소된 서비스(OpenAPI)입니다.</MESSAGE>\r\n",
      "</RESULT>\r\n",
      "<row>\r\n",
      "<USE_MON>201306</USE_MON>\r\n",
      "<LINE_NUM>중앙선</LINE_NUM>\r\n",
      "<SUB_STA_NM>용문</SUB_STA_NM>\r\n",
      "<RIDE_PASGR_NUM>111275</RIDE_PASGR_NUM>\r\n",
      "<ALIGHT_PASGR_NUM>108878</ALIGHT_PASGR_NUM>\r\n",
      "<WORK_DT>20130723</WORK_DT>\r\n",
      "<COMMT/>\r\n",
      "</row>\r\n",
      "<row>\r\n",
      "<USE_MON>201306</USE_MON>\r\n",
      "<LINE_NUM>중앙선</LINE_NUM>\r\n",
      "<SUB_STA_NM>원덕</SUB_STA_NM>\r\n",
      "<RIDE_PASGR_NUM>11495</RIDE_PASGR_NUM>\r\n",
      "<ALIGHT_PASGR_NUM>10964</ALIGHT_PASGR_NUM>\r\n",
      "<WORK_DT>20130723</WORK_DT>\r\n",
      "<COMMT/>\r\n",
      "</row>\r\n",
      "<row>\r\n",
      "<USE_MON>201306</USE_MON>\r\n",
      "<LINE_NUM>중앙선</LINE_NUM>\r\n",
      "<SUB_STA_NM>양평</SUB_STA_NM>\r\n",
      "<RIDE_PASGR_NUM>118103</RIDE_PASGR_NUM>\r\n",
      "<ALIGHT_PASGR_NUM>116604</ALIGHT_PASGR_NUM>\r\n",
      "<WORK_DT>20130723</WORK_DT>\r\n",
      "<COMMT/>\r\n",
      "</row>\r\n",
      "<row>\r\n",
      "<USE_MON>201306</USE_MON>\r\n",
      "<LINE_NUM>중앙선</LINE_NUM>\r\n",
      "<SUB_STA_NM>오빈</SUB_STA_NM>\r\n",
      "<RIDE_PASGR_NUM>10590</RIDE_PASGR_NUM>\r\n",
      "<ALIGHT_PASGR_NUM>10020</ALIGHT_PASGR_NUM>\r\n",
      "<WORK_DT>20130723</WORK_DT>\r\n",
      "<COMMT/>\r\n",
      "</row>\r\n",
      "<row>\r\n",
      "<USE_MON>201306</USE_MON>\r\n",
      "<LINE_NUM>중앙선</LINE_NUM>\r\n",
      "<SUB_STA_NM>아신</SUB_STA_NM>\r\n",
      "<RIDE_PASGR_NUM>26304</RIDE_PASGR_NUM>\r\n",
      "<ALIGHT_PASGR_NUM>26358</ALIGHT_PASGR_NUM>\r\n",
      "<WORK_DT>20130723</WORK_DT>\r\n",
      "<COMMT/>\r\n",
      "</row>\r\n",
      "</CardSubwayStatisticsService>\r\n",
      "\r\n"
     ]
    }
   ],
   "source": [
    "!python src/ds_open_5.py"
   ]
  },
  {
   "cell_type": "code",
   "execution_count": 20,
   "metadata": {
    "collapsed": false
   },
   "outputs": [
    {
     "name": "stdout",
     "output_type": "stream",
     "text": [
      "Overwriting src/ds_open_subwayPassengers.py\n"
     ]
    }
   ],
   "source": [
    "%%writefile src/ds_open_subwayPassengers.py\n",
    "# coding: utf-8\n",
    "import os\n",
    "import requests\n",
    "import json\n",
    "from pymongo import MongoClient\n",
    "import mylib\n",
    "\n",
    "Client = MongoClient('localhost:27017')\n",
    "_db=Client['ds_open_subwayPassengersDb'] #db created by mongo\n",
    "_table=_db['db_open_subwayTable'] #collection\n",
    "#db=Client.ds_rest_subwayPassengers\n",
    "\n",
    "def saveJson(_fname,_data):\n",
    "    import io\n",
    "    with io.open(_fname, 'a', encoding='utf8') as json_file:\n",
    "        _j=json.dumps(_data, json_file, ensure_ascii=False, encoding='utf8')\n",
    "        json_file.write(_j+\"\\n\")\n",
    "\n",
    "def readJson(_fname):\n",
    "    for line in open(_fname, 'r').readlines():\n",
    "        _j=json.loads(line)\n",
    "        #print _j['id'],_j['text']\n",
    "        print _j['id']\n",
    "\n",
    "def saveDB(_data):\n",
    "    _table.insert_one(_data)\n",
    "\n",
    "def readDB():\n",
    "    for tweet in _table.find():\n",
    "        print tweet['id'],tweet['text']\n",
    "\n",
    "def saveFile(_fname,_data):\n",
    "    fp=open(_fname,'a')\n",
    "    fp.write(_data+\"\\n\")\n",
    "\n",
    "def doIt():\n",
    "    keyPath=os.path.join(os.getcwd(), 'src', 'key.properties')\n",
    "    key=mylib.getKey(keyPath)  \n",
    "    _key=key['dataseoul'] #KEY='73725.....'\n",
    "    _url='http://openAPI.seoul.go.kr:8088'\n",
    "    _type='json'\n",
    "    _service='CardSubwayStatisticsService'\n",
    "    _start_index=1\n",
    "    _end_index=5\n",
    "    _use_mon='201306'\n",
    "    _maxIter=20\n",
    "    _iter=0\n",
    "    _jfname='src/ds_open_subwayPassengers.json'\n",
    "    while _iter<_maxIter:\n",
    "        _api=os.path.join(_url,_key,_type,_service,str(_start_index),str(_end_index),_use_mon)\n",
    "        #print _api\n",
    "        r=requests.get(_api)\n",
    "        _json=r.json()\n",
    "        print _json\n",
    "        saveJson(_jfname,_json)\n",
    "        saveDB(_json)\n",
    "        _start_index+=5\n",
    "        _end_index+=5\n",
    "        _iter+=1\n",
    "\n",
    "if __name__ == \"__main__\":\n",
    "    doIt()"
   ]
  },
  {
   "cell_type": "code",
   "execution_count": 21,
   "metadata": {
    "collapsed": false
   },
   "outputs": [
    {
     "name": "stdout",
     "output_type": "stream",
     "text": [
      "{u'CardSubwayStatisticsService': {u'row': [{u'COMMT': u'', u'RIDE_PASGR_NUM': 111275.0, u'WORK_DT': u'20130723', u'LINE_NUM': u'\\uc911\\uc559\\uc120', u'SUB_STA_NM': u'\\uc6a9\\ubb38', u'ALIGHT_PASGR_NUM': 108878.0, u'USE_MON': u'201306'}, {u'COMMT': u'', u'RIDE_PASGR_NUM': 11495.0, u'WORK_DT': u'20130723', u'LINE_NUM': u'\\uc911\\uc559\\uc120', u'SUB_STA_NM': u'\\uc6d0\\ub355', u'ALIGHT_PASGR_NUM': 10964.0, u'USE_MON': u'201306'}, {u'COMMT': u'', u'RIDE_PASGR_NUM': 118103.0, u'WORK_DT': u'20130723', u'LINE_NUM': u'\\uc911\\uc559\\uc120', u'SUB_STA_NM': u'\\uc591\\ud3c9', u'ALIGHT_PASGR_NUM': 116604.0, u'USE_MON': u'201306'}, {u'COMMT': u'', u'RIDE_PASGR_NUM': 10590.0, u'WORK_DT': u'20130723', u'LINE_NUM': u'\\uc911\\uc559\\uc120', u'SUB_STA_NM': u'\\uc624\\ube48', u'ALIGHT_PASGR_NUM': 10020.0, u'USE_MON': u'201306'}, {u'COMMT': u'', u'RIDE_PASGR_NUM': 26304.0, u'WORK_DT': u'20130723', u'LINE_NUM': u'\\uc911\\uc559\\uc120', u'SUB_STA_NM': u'\\uc544\\uc2e0', u'ALIGHT_PASGR_NUM': 26358.0, u'USE_MON': u'201306'}], u'RESULT': {u'MESSAGE': u'\\uc815\\uc0c1 \\ucc98\\ub9ac\\ub418\\uc5c8\\uc2b5\\ub2c8\\ub2e4', u'CODE': u'INFO-000'}, u'list_total_count': 530}}\n",
      "{u'CardSubwayStatisticsService': {u'row': [{u'COMMT': u'', u'RIDE_PASGR_NUM': 30281.0, u'WORK_DT': u'20130723', u'LINE_NUM': u'\\uc911\\uc559\\uc120', u'SUB_STA_NM': u'\\uad6d\\uc218', u'ALIGHT_PASGR_NUM': 29456.0, u'USE_MON': u'201306'}, {u'COMMT': u'', u'RIDE_PASGR_NUM': 10832.0, u'WORK_DT': u'20130723', u'LINE_NUM': u'\\uc911\\uc559\\uc120', u'SUB_STA_NM': u'\\uc2e0\\uc6d0', u'ALIGHT_PASGR_NUM': 7603.0, u'USE_MON': u'201306'}, {u'COMMT': u'', u'RIDE_PASGR_NUM': 61889.0, u'WORK_DT': u'20130723', u'LINE_NUM': u'\\uc911\\uc559\\uc120', u'SUB_STA_NM': u'\\uc591\\uc218', u'ALIGHT_PASGR_NUM': 62370.0, u'USE_MON': u'201306'}, {u'COMMT': u'', u'RIDE_PASGR_NUM': 45870.0, u'WORK_DT': u'20130723', u'LINE_NUM': u'\\uc911\\uc559\\uc120', u'SUB_STA_NM': u'\\uc6b4\\uae38\\uc0b0', u'ALIGHT_PASGR_NUM': 44030.0, u'USE_MON': u'201306'}, {u'COMMT': u'', u'RIDE_PASGR_NUM': 34122.0, u'WORK_DT': u'20130723', u'LINE_NUM': u'\\uc911\\uc559\\uc120', u'SUB_STA_NM': u'\\ud314\\ub2f9', u'ALIGHT_PASGR_NUM': 35559.0, u'USE_MON': u'201306'}], u'RESULT': {u'MESSAGE': u'\\uc815\\uc0c1 \\ucc98\\ub9ac\\ub418\\uc5c8\\uc2b5\\ub2c8\\ub2e4', u'CODE': u'INFO-000'}, u'list_total_count': 530}}\n",
      "{u'CardSubwayStatisticsService': {u'row': [{u'COMMT': u'', u'RIDE_PASGR_NUM': 75553.0, u'WORK_DT': u'20130723', u'LINE_NUM': u'\\uc911\\uc559\\uc120', u'SUB_STA_NM': u'\\ub3c4\\uc2ec', u'ALIGHT_PASGR_NUM': 67667.0, u'USE_MON': u'201306'}, {u'COMMT': u'', u'RIDE_PASGR_NUM': 189783.0, u'WORK_DT': u'20130723', u'LINE_NUM': u'\\uc911\\uc559\\uc120', u'SUB_STA_NM': u'\\ub355\\uc18c', u'ALIGHT_PASGR_NUM': 189419.0, u'USE_MON': u'201306'}, {u'COMMT': u'', u'RIDE_PASGR_NUM': 27878.0, u'WORK_DT': u'20130723', u'LINE_NUM': u'\\uc911\\uc559\\uc120', u'SUB_STA_NM': u'\\uc591\\uc815', u'ALIGHT_PASGR_NUM': 23735.0, u'USE_MON': u'201306'}, {u'COMMT': u'', u'RIDE_PASGR_NUM': 267402.0, u'WORK_DT': u'20130723', u'LINE_NUM': u'\\uc911\\uc559\\uc120', u'SUB_STA_NM': u'\\ub3c4\\ub18d', u'ALIGHT_PASGR_NUM': 228445.0, u'USE_MON': u'201306'}, {u'COMMT': u'', u'RIDE_PASGR_NUM': 399287.0, u'WORK_DT': u'20130723', u'LINE_NUM': u'\\uc911\\uc559\\uc120', u'SUB_STA_NM': u'\\uad6c\\ub9ac', u'ALIGHT_PASGR_NUM': 418036.0, u'USE_MON': u'201306'}], u'RESULT': {u'MESSAGE': u'\\uc815\\uc0c1 \\ucc98\\ub9ac\\ub418\\uc5c8\\uc2b5\\ub2c8\\ub2e4', u'CODE': u'INFO-000'}, u'list_total_count': 530}}\n",
      "{u'CardSubwayStatisticsService': {u'row': [{u'COMMT': u'', u'RIDE_PASGR_NUM': 62789.0, u'WORK_DT': u'20130723', u'LINE_NUM': u'\\uc911\\uc559\\uc120', u'SUB_STA_NM': u'\\uc591\\uc6d0', u'ALIGHT_PASGR_NUM': 68407.0, u'USE_MON': u'201306'}, {u'COMMT': u'', u'RIDE_PASGR_NUM': 220544.0, u'WORK_DT': u'20130723', u'LINE_NUM': u'\\uc911\\uc559\\uc120', u'SUB_STA_NM': u'\\ub9dd\\uc6b0', u'ALIGHT_PASGR_NUM': 215484.0, u'USE_MON': u'201306'}, {u'COMMT': u'', u'RIDE_PASGR_NUM': 157679.0, u'WORK_DT': u'20130723', u'LINE_NUM': u'\\uc911\\uc559\\uc120', u'SUB_STA_NM': u'\\uc0c1\\ubd09', u'ALIGHT_PASGR_NUM': 158208.0, u'USE_MON': u'201306'}, {u'COMMT': u'', u'RIDE_PASGR_NUM': 175937.0, u'WORK_DT': u'20130723', u'LINE_NUM': u'\\uc911\\uc559\\uc120', u'SUB_STA_NM': u'\\uc911\\ub791', u'ALIGHT_PASGR_NUM': 165876.0, u'USE_MON': u'201306'}, {u'COMMT': u'', u'RIDE_PASGR_NUM': 883471.0, u'WORK_DT': u'20130723', u'LINE_NUM': u'\\uc911\\uc559\\uc120', u'SUB_STA_NM': u'\\ud68c\\uae30', u'ALIGHT_PASGR_NUM': 867156.0, u'USE_MON': u'201306'}], u'RESULT': {u'MESSAGE': u'\\uc815\\uc0c1 \\ucc98\\ub9ac\\ub418\\uc5c8\\uc2b5\\ub2c8\\ub2e4', u'CODE': u'INFO-000'}, u'list_total_count': 530}}\n",
      "{u'CardSubwayStatisticsService': {u'row': [{u'COMMT': u'', u'RIDE_PASGR_NUM': 74486.0, u'WORK_DT': u'20130723', u'LINE_NUM': u'\\uc7a5\\ud56d\\uc120', u'SUB_STA_NM': u'\\uc2e0\\ucc3d', u'ALIGHT_PASGR_NUM': 70390.0, u'USE_MON': u'201306'}, {u'COMMT': u'', u'RIDE_PASGR_NUM': 152381.0, u'WORK_DT': u'20130723', u'LINE_NUM': u'\\uc7a5\\ud56d\\uc120', u'SUB_STA_NM': u'\\uc628\\uc591\\uc628\\ucc9c', u'ALIGHT_PASGR_NUM': 153093.0, u'USE_MON': u'201306'}, {u'COMMT': u'', u'RIDE_PASGR_NUM': 27353.0, u'WORK_DT': u'20130723', u'LINE_NUM': u'\\uc7a5\\ud56d\\uc120', u'SUB_STA_NM': u'\\ubc30\\ubc29', u'ALIGHT_PASGR_NUM': 26155.0, u'USE_MON': u'201306'}, {u'COMMT': u'', u'RIDE_PASGR_NUM': 71486.0, u'WORK_DT': u'20130723', u'LINE_NUM': u'\\uc7a5\\ud56d\\uc120', u'SUB_STA_NM': u'\\uc544\\uc0b0', u'ALIGHT_PASGR_NUM': 62545.0, u'USE_MON': u'201306'}, {u'COMMT': u'', u'RIDE_PASGR_NUM': 86078.0, u'WORK_DT': u'20130723', u'LINE_NUM': u'\\uc7a5\\ud56d\\uc120', u'SUB_STA_NM': u'\\uc30d\\uc6a9\\ub3d9', u'ALIGHT_PASGR_NUM': 79395.0, u'USE_MON': u'201306'}], u'RESULT': {u'MESSAGE': u'\\uc815\\uc0c1 \\ucc98\\ub9ac\\ub418\\uc5c8\\uc2b5\\ub2c8\\ub2e4', u'CODE': u'INFO-000'}, u'list_total_count': 530}}\n",
      "{u'CardSubwayStatisticsService': {u'row': [{u'COMMT': u'', u'RIDE_PASGR_NUM': 43418.0, u'WORK_DT': u'20130723', u'LINE_NUM': u'\\uc7a5\\ud56d\\uc120', u'SUB_STA_NM': u'\\ubd09\\uba85', u'ALIGHT_PASGR_NUM': 42388.0, u'USE_MON': u'201306'}, {u'COMMT': u'', u'RIDE_PASGR_NUM': 413533.0, u'WORK_DT': u'20130723', u'LINE_NUM': u'\\uc77c\\uc0b0\\uc120', u'SUB_STA_NM': u'\\ub300\\ud654', u'ALIGHT_PASGR_NUM': 324864.0, u'USE_MON': u'201306'}, {u'COMMT': u'', u'RIDE_PASGR_NUM': 287340.0, u'WORK_DT': u'20130723', u'LINE_NUM': u'\\uc77c\\uc0b0\\uc120', u'SUB_STA_NM': u'\\uc8fc\\uc5fd', u'ALIGHT_PASGR_NUM': 293083.0, u'USE_MON': u'201306'}, {u'COMMT': u'', u'RIDE_PASGR_NUM': 282531.0, u'WORK_DT': u'20130723', u'LINE_NUM': u'\\uc77c\\uc0b0\\uc120', u'SUB_STA_NM': u'\\uc815\\ubc1c\\uc0b0', u'ALIGHT_PASGR_NUM': 298514.0, u'USE_MON': u'201306'}, {u'COMMT': u'', u'RIDE_PASGR_NUM': 248026.0, u'WORK_DT': u'20130723', u'LINE_NUM': u'\\uc77c\\uc0b0\\uc120', u'SUB_STA_NM': u'\\ub9c8\\ub450', u'ALIGHT_PASGR_NUM': 258045.0, u'USE_MON': u'201306'}], u'RESULT': {u'MESSAGE': u'\\uc815\\uc0c1 \\ucc98\\ub9ac\\ub418\\uc5c8\\uc2b5\\ub2c8\\ub2e4', u'CODE': u'INFO-000'}, u'list_total_count': 530}}\n",
      "{u'CardSubwayStatisticsService': {u'row': [{u'COMMT': u'', u'RIDE_PASGR_NUM': 301856.0, u'WORK_DT': u'20130723', u'LINE_NUM': u'\\uc77c\\uc0b0\\uc120', u'SUB_STA_NM': u'\\ubc31\\uc11d', u'ALIGHT_PASGR_NUM': 286143.0, u'USE_MON': u'201306'}, {u'COMMT': u'', u'RIDE_PASGR_NUM': 37978.0, u'WORK_DT': u'20130723', u'LINE_NUM': u'\\uc77c\\uc0b0\\uc120', u'SUB_STA_NM': u'\\ub300\\uace1', u'ALIGHT_PASGR_NUM': 30033.0, u'USE_MON': u'201306'}, {u'COMMT': u'', u'RIDE_PASGR_NUM': 584539.0, u'WORK_DT': u'20130723', u'LINE_NUM': u'\\uc77c\\uc0b0\\uc120', u'SUB_STA_NM': u'\\ud654\\uc815', u'ALIGHT_PASGR_NUM': 597382.0, u'USE_MON': u'201306'}, {u'COMMT': u'', u'RIDE_PASGR_NUM': 384868.0, u'WORK_DT': u'20130723', u'LINE_NUM': u'\\uc77c\\uc0b0\\uc120', u'SUB_STA_NM': u'\\uc6d0\\ub2f9', u'ALIGHT_PASGR_NUM': 364047.0, u'USE_MON': u'201306'}, {u'COMMT': u'', u'RIDE_PASGR_NUM': 253470.0, u'WORK_DT': u'20130723', u'LINE_NUM': u'\\uc77c\\uc0b0\\uc120', u'SUB_STA_NM': u'\\uc0bc\\uc1a1', u'ALIGHT_PASGR_NUM': 233074.0, u'USE_MON': u'201306'}], u'RESULT': {u'MESSAGE': u'\\uc815\\uc0c1 \\ucc98\\ub9ac\\ub418\\uc5c8\\uc2b5\\ub2c8\\ub2e4', u'CODE': u'INFO-000'}, u'list_total_count': 530}}\n",
      "{u'CardSubwayStatisticsService': {u'row': [{u'COMMT': u'', u'RIDE_PASGR_NUM': 146909.0, u'WORK_DT': u'20130723', u'LINE_NUM': u'\\uc548\\uc0b0\\uc120', u'SUB_STA_NM': u'\\uc218\\ub9ac\\uc0b0', u'ALIGHT_PASGR_NUM': 122149.0, u'USE_MON': u'201306'}, {u'COMMT': u'', u'RIDE_PASGR_NUM': 227066.0, u'WORK_DT': u'20130723', u'LINE_NUM': u'\\uc548\\uc0b0\\uc120', u'SUB_STA_NM': u'\\uc624\\uc774\\ub3c4', u'ALIGHT_PASGR_NUM': 224118.0, u'USE_MON': u'201306'}, {u'COMMT': u'', u'RIDE_PASGR_NUM': 289305.0, u'WORK_DT': u'20130723', u'LINE_NUM': u'\\uc548\\uc0b0\\uc120', u'SUB_STA_NM': u'\\uc815\\uc655', u'ALIGHT_PASGR_NUM': 309927.0, u'USE_MON': u'201306'}, {u'COMMT': u'', u'RIDE_PASGR_NUM': 54276.0, u'WORK_DT': u'20130723', u'LINE_NUM': u'\\uc548\\uc0b0\\uc120', u'SUB_STA_NM': u'\\uc2e0\\uae38\\uc628\\ucc9c', u'ALIGHT_PASGR_NUM': 51249.0, u'USE_MON': u'201306'}, {u'COMMT': u'', u'RIDE_PASGR_NUM': 581120.0, u'WORK_DT': u'20130723', u'LINE_NUM': u'\\uc548\\uc0b0\\uc120', u'SUB_STA_NM': u'\\uc548\\uc0b0', u'ALIGHT_PASGR_NUM': 533836.0, u'USE_MON': u'201306'}], u'RESULT': {u'MESSAGE': u'\\uc815\\uc0c1 \\ucc98\\ub9ac\\ub418\\uc5c8\\uc2b5\\ub2c8\\ub2e4', u'CODE': u'INFO-000'}, u'list_total_count': 530}}\n",
      "{u'CardSubwayStatisticsService': {u'row': [{u'COMMT': u'', u'RIDE_PASGR_NUM': 152275.0, u'WORK_DT': u'20130723', u'LINE_NUM': u'\\uc548\\uc0b0\\uc120', u'SUB_STA_NM': u'\\ucd08\\uc9c0', u'ALIGHT_PASGR_NUM': 145611.0, u'USE_MON': u'201306'}, {u'COMMT': u'', u'RIDE_PASGR_NUM': 285263.0, u'WORK_DT': u'20130723', u'LINE_NUM': u'\\uc548\\uc0b0\\uc120', u'SUB_STA_NM': u'\\uace0\\uc794', u'ALIGHT_PASGR_NUM': 281189.0, u'USE_MON': u'201306'}, {u'COMMT': u'', u'RIDE_PASGR_NUM': 504850.0, u'WORK_DT': u'20130723', u'LINE_NUM': u'\\uc548\\uc0b0\\uc120', u'SUB_STA_NM': u'\\uc911\\uc559', u'ALIGHT_PASGR_NUM': 519455.0, u'USE_MON': u'201306'}, {u'COMMT': u'', u'RIDE_PASGR_NUM': 308890.0, u'WORK_DT': u'20130723', u'LINE_NUM': u'\\uc548\\uc0b0\\uc120', u'SUB_STA_NM': u'\\ud55c\\ub300\\uc55e', u'ALIGHT_PASGR_NUM': 302989.0, u'USE_MON': u'201306'}, {u'COMMT': u'', u'RIDE_PASGR_NUM': 662510.0, u'WORK_DT': u'20130723', u'LINE_NUM': u'\\uc548\\uc0b0\\uc120', u'SUB_STA_NM': u'\\uc0c1\\ub85d\\uc218', u'ALIGHT_PASGR_NUM': 648908.0, u'USE_MON': u'201306'}], u'RESULT': {u'MESSAGE': u'\\uc815\\uc0c1 \\ucc98\\ub9ac\\ub418\\uc5c8\\uc2b5\\ub2c8\\ub2e4', u'CODE': u'INFO-000'}, u'list_total_count': 530}}\n",
      "{u'CardSubwayStatisticsService': {u'row': [{u'COMMT': u'', u'RIDE_PASGR_NUM': 161298.0, u'WORK_DT': u'20130723', u'LINE_NUM': u'\\uc548\\uc0b0\\uc120', u'SUB_STA_NM': u'\\ubc18\\uc6d4', u'ALIGHT_PASGR_NUM': 150608.0, u'USE_MON': u'201306'}, {u'COMMT': u'', u'RIDE_PASGR_NUM': 117720.0, u'WORK_DT': u'20130723', u'LINE_NUM': u'\\uc548\\uc0b0\\uc120', u'SUB_STA_NM': u'\\ub300\\uc57c\\ubbf8', u'ALIGHT_PASGR_NUM': 107344.0, u'USE_MON': u'201306'}, {u'COMMT': u'', u'RIDE_PASGR_NUM': 580508.0, u'WORK_DT': u'20130723', u'LINE_NUM': u'\\uc548\\uc0b0\\uc120', u'SUB_STA_NM': u'\\uc0b0\\ubcf8', u'ALIGHT_PASGR_NUM': 608627.0, u'USE_MON': u'201306'}, {u'COMMT': u'', u'RIDE_PASGR_NUM': 91054.0, u'WORK_DT': u'20130723', u'LINE_NUM': u'\\uc218\\uc778\\uc120', u'SUB_STA_NM': u'\\uc1a1\\ub3c4', u'ALIGHT_PASGR_NUM': 92244.0, u'USE_MON': u'201306'}, {u'COMMT': u'', u'RIDE_PASGR_NUM': 88462.0, u'WORK_DT': u'20130723', u'LINE_NUM': u'\\uc218\\uc778\\uc120', u'SUB_STA_NM': u'\\uc5f0\\uc218', u'ALIGHT_PASGR_NUM': 85543.0, u'USE_MON': u'201306'}], u'RESULT': {u'MESSAGE': u'\\uc815\\uc0c1 \\ucc98\\ub9ac\\ub418\\uc5c8\\uc2b5\\ub2c8\\ub2e4', u'CODE': u'INFO-000'}, u'list_total_count': 530}}\n",
      "{u'CardSubwayStatisticsService': {u'row': [{u'COMMT': u'', u'RIDE_PASGR_NUM': 95996.0, u'WORK_DT': u'20130723', u'LINE_NUM': u'\\uc218\\uc778\\uc120', u'SUB_STA_NM': u'\\uc6d0\\uc778\\uc7ac', u'ALIGHT_PASGR_NUM': 99581.0, u'USE_MON': u'201306'}, {u'COMMT': u'', u'RIDE_PASGR_NUM': 39150.0, u'WORK_DT': u'20130723', u'LINE_NUM': u'\\uc218\\uc778\\uc120', u'SUB_STA_NM': u'\\ub0a8\\ub3d9\\uc778\\ub354\\uc2a4\\ud30c\\ud06c', u'ALIGHT_PASGR_NUM': 43400.0, u'USE_MON': u'201306'}, {u'COMMT': u'', u'RIDE_PASGR_NUM': 61721.0, u'WORK_DT': u'20130723', u'LINE_NUM': u'\\uc218\\uc778\\uc120', u'SUB_STA_NM': u'\\ud638\\uad6c\\ud3ec', u'ALIGHT_PASGR_NUM': 62169.0, u'USE_MON': u'201306'}, {u'COMMT': u'', u'RIDE_PASGR_NUM': 121774.0, u'WORK_DT': u'20130723', u'LINE_NUM': u'\\uc218\\uc778\\uc120', u'SUB_STA_NM': u'\\uc778\\ucc9c\\ub17c\\ud604', u'ALIGHT_PASGR_NUM': 124227.0, u'USE_MON': u'201306'}, {u'COMMT': u'', u'RIDE_PASGR_NUM': 131865.0, u'WORK_DT': u'20130723', u'LINE_NUM': u'\\uc218\\uc778\\uc120', u'SUB_STA_NM': u'\\uc18c\\ub798\\ud3ec\\uad6c', u'ALIGHT_PASGR_NUM': 127177.0, u'USE_MON': u'201306'}], u'RESULT': {u'MESSAGE': u'\\uc815\\uc0c1 \\ucc98\\ub9ac\\ub418\\uc5c8\\uc2b5\\ub2c8\\ub2e4', u'CODE': u'INFO-000'}, u'list_total_count': 530}}\n",
      "{u'CardSubwayStatisticsService': {u'row': [{u'COMMT': u'', u'RIDE_PASGR_NUM': 59900.0, u'WORK_DT': u'20130723', u'LINE_NUM': u'\\uc218\\uc778\\uc120', u'SUB_STA_NM': u'\\uc6d4\\uacf6', u'ALIGHT_PASGR_NUM': 51589.0, u'USE_MON': u'201306'}, {u'COMMT': u'', u'RIDE_PASGR_NUM': 201035.0, u'WORK_DT': u'20130723', u'LINE_NUM': u'\\ubd84\\ub2f9\\uc120', u'SUB_STA_NM': u'\\ub9dd\\ud3ec', u'ALIGHT_PASGR_NUM': 188814.0, u'USE_MON': u'201306'}, {u'COMMT': u'', u'RIDE_PASGR_NUM': 118599.0, u'WORK_DT': u'20130723', u'LINE_NUM': u'\\ubd84\\ub2f9\\uc120', u'SUB_STA_NM': u'\\uc601\\ud1b5', u'ALIGHT_PASGR_NUM': 127341.0, u'USE_MON': u'201306'}, {u'COMMT': u'', u'RIDE_PASGR_NUM': 72304.0, u'WORK_DT': u'20130723', u'LINE_NUM': u'\\ubd84\\ub2f9\\uc120', u'SUB_STA_NM': u'\\uccad\\uba85', u'ALIGHT_PASGR_NUM': 66968.0, u'USE_MON': u'201306'}, {u'COMMT': u'', u'RIDE_PASGR_NUM': 101338.0, u'WORK_DT': u'20130723', u'LINE_NUM': u'\\ubd84\\ub2f9\\uc120', u'SUB_STA_NM': u'\\uc0c1\\uac08', u'ALIGHT_PASGR_NUM': 94764.0, u'USE_MON': u'201306'}], u'RESULT': {u'MESSAGE': u'\\uc815\\uc0c1 \\ucc98\\ub9ac\\ub418\\uc5c8\\uc2b5\\ub2c8\\ub2e4', u'CODE': u'INFO-000'}, u'list_total_count': 530}}\n",
      "{u'CardSubwayStatisticsService': {u'row': [{u'COMMT': u'', u'RIDE_PASGR_NUM': 228737.0, u'WORK_DT': u'20130723', u'LINE_NUM': u'\\ubd84\\ub2f9\\uc120', u'SUB_STA_NM': u'\\uae30\\ud765', u'ALIGHT_PASGR_NUM': 228749.0, u'USE_MON': u'201306'}, {u'COMMT': u'', u'RIDE_PASGR_NUM': 108938.0, u'WORK_DT': u'20130723', u'LINE_NUM': u'\\ubd84\\ub2f9\\uc120', u'SUB_STA_NM': u'\\uc2e0\\uac08', u'ALIGHT_PASGR_NUM': 104952.0, u'USE_MON': u'201306'}, {u'COMMT': u'', u'RIDE_PASGR_NUM': 140537.0, u'WORK_DT': u'20130723', u'LINE_NUM': u'\\ubd84\\ub2f9\\uc120', u'SUB_STA_NM': u'\\uad6c\\uc131', u'ALIGHT_PASGR_NUM': 141905.0, u'USE_MON': u'201306'}, {u'COMMT': u'', u'RIDE_PASGR_NUM': 621050.0, u'WORK_DT': u'20130723', u'LINE_NUM': u'\\ubd84\\ub2f9\\uc120', u'SUB_STA_NM': u'\\uc8fd\\uc804', u'ALIGHT_PASGR_NUM': 666114.0, u'USE_MON': u'201306'}, {u'COMMT': u'', u'RIDE_PASGR_NUM': 94365.0, u'WORK_DT': u'20130723', u'LINE_NUM': u'\\ubd84\\ub2f9\\uc120', u'SUB_STA_NM': u'\\ubcf4\\uc815', u'ALIGHT_PASGR_NUM': 73437.0, u'USE_MON': u'201306'}], u'RESULT': {u'MESSAGE': u'\\uc815\\uc0c1 \\ucc98\\ub9ac\\ub418\\uc5c8\\uc2b5\\ub2c8\\ub2e4', u'CODE': u'INFO-000'}, u'list_total_count': 530}}\n",
      "{u'CardSubwayStatisticsService': {u'row': [{u'COMMT': u'', u'RIDE_PASGR_NUM': 164574.0, u'WORK_DT': u'20130723', u'LINE_NUM': u'\\ubd84\\ub2f9\\uc120', u'SUB_STA_NM': u'\\uc774\\ub9e4', u'ALIGHT_PASGR_NUM': 159217.0, u'USE_MON': u'201306'}, {u'COMMT': u'', u'RIDE_PASGR_NUM': 481998.0, u'WORK_DT': u'20130723', u'LINE_NUM': u'\\ubd84\\ub2f9\\uc120', u'SUB_STA_NM': u'\\uc624\\ub9ac', u'ALIGHT_PASGR_NUM': 408822.0, u'USE_MON': u'201306'}, {u'COMMT': u'', u'RIDE_PASGR_NUM': 640860.0, u'WORK_DT': u'20130723', u'LINE_NUM': u'\\ubd84\\ub2f9\\uc120', u'SUB_STA_NM': u'\\ubbf8\\uae08', u'ALIGHT_PASGR_NUM': 674635.0, u'USE_MON': u'201306'}, {u'COMMT': u'', u'RIDE_PASGR_NUM': 453680.0, u'WORK_DT': u'20130723', u'LINE_NUM': u'\\ubd84\\ub2f9\\uc120', u'SUB_STA_NM': u'\\uc815\\uc790', u'ALIGHT_PASGR_NUM': 481436.0, u'USE_MON': u'201306'}, {u'COMMT': u'', u'RIDE_PASGR_NUM': 412055.0, u'WORK_DT': u'20130723', u'LINE_NUM': u'\\ubd84\\ub2f9\\uc120', u'SUB_STA_NM': u'\\uc218\\ub0b4', u'ALIGHT_PASGR_NUM': 412858.0, u'USE_MON': u'201306'}], u'RESULT': {u'MESSAGE': u'\\uc815\\uc0c1 \\ucc98\\ub9ac\\ub418\\uc5c8\\uc2b5\\ub2c8\\ub2e4', u'CODE': u'INFO-000'}, u'list_total_count': 530}}\n",
      "{u'CardSubwayStatisticsService': {u'row': [{u'COMMT': u'', u'RIDE_PASGR_NUM': 748205.0, u'WORK_DT': u'20130723', u'LINE_NUM': u'\\ubd84\\ub2f9\\uc120', u'SUB_STA_NM': u'\\uc11c\\ud604', u'ALIGHT_PASGR_NUM': 777686.0, u'USE_MON': u'201306'}, {u'COMMT': u'', u'RIDE_PASGR_NUM': 817657.0, u'WORK_DT': u'20130723', u'LINE_NUM': u'\\ubd84\\ub2f9\\uc120', u'SUB_STA_NM': u'\\uc57c\\ud0d1', u'ALIGHT_PASGR_NUM': 854174.0, u'USE_MON': u'201306'}, {u'COMMT': u'', u'RIDE_PASGR_NUM': 720442.0, u'WORK_DT': u'20130723', u'LINE_NUM': u'\\ubd84\\ub2f9\\uc120', u'SUB_STA_NM': u'\\ubaa8\\ub780', u'ALIGHT_PASGR_NUM': 689209.0, u'USE_MON': u'201306'}, {u'COMMT': u'', u'RIDE_PASGR_NUM': 419774.0, u'WORK_DT': u'20130723', u'LINE_NUM': u'\\ubd84\\ub2f9\\uc120', u'SUB_STA_NM': u'\\ud0dc\\ud3c9', u'ALIGHT_PASGR_NUM': 396038.0, u'USE_MON': u'201306'}, {u'COMMT': u'', u'RIDE_PASGR_NUM': 285110.0, u'WORK_DT': u'20130723', u'LINE_NUM': u'\\ubd84\\ub2f9\\uc120', u'SUB_STA_NM': u'\\uac00\\ucc9c\\ub300', u'ALIGHT_PASGR_NUM': 321509.0, u'USE_MON': u'201306'}], u'RESULT': {u'MESSAGE': u'\\uc815\\uc0c1 \\ucc98\\ub9ac\\ub418\\uc5c8\\uc2b5\\ub2c8\\ub2e4', u'CODE': u'INFO-000'}, u'list_total_count': 530}}\n",
      "{u'CardSubwayStatisticsService': {u'row': [{u'COMMT': u'', u'RIDE_PASGR_NUM': 206631.0, u'WORK_DT': u'20130723', u'LINE_NUM': u'\\ubd84\\ub2f9\\uc120', u'SUB_STA_NM': u'\\uc120\\uc815\\ub989', u'ALIGHT_PASGR_NUM': 231260.0, u'USE_MON': u'201306'}, {u'COMMT': u'', u'RIDE_PASGR_NUM': 188076.0, u'WORK_DT': u'20130723', u'LINE_NUM': u'\\ubd84\\ub2f9\\uc120', u'SUB_STA_NM': u'\\uac15\\ub0a8\\uad6c\\uccad', u'ALIGHT_PASGR_NUM': 215608.0, u'USE_MON': u'201306'}, {u'COMMT': u'', u'RIDE_PASGR_NUM': 345902.0, u'WORK_DT': u'20130723', u'LINE_NUM': u'\\ubd84\\ub2f9\\uc120', u'SUB_STA_NM': u'\\uc555\\uad6c\\uc815\\ub85c\\ub370\\uc624', u'ALIGHT_PASGR_NUM': 393142.0, u'USE_MON': u'201306'}, {u'COMMT': u'', u'RIDE_PASGR_NUM': 143459.0, u'WORK_DT': u'20130723', u'LINE_NUM': u'\\ubd84\\ub2f9\\uc120', u'SUB_STA_NM': u'\\uc11c\\uc6b8\\uc232', u'ALIGHT_PASGR_NUM': 136147.0, u'USE_MON': u'201306'}, {u'COMMT': u'', u'RIDE_PASGR_NUM': 180522.0, u'WORK_DT': u'20130723', u'LINE_NUM': u'\\ubd84\\ub2f9\\uc120', u'SUB_STA_NM': u'\\uc218\\uc11c', u'ALIGHT_PASGR_NUM': 185810.0, u'USE_MON': u'201306'}], u'RESULT': {u'MESSAGE': u'\\uc815\\uc0c1 \\ucc98\\ub9ac\\ub418\\uc5c8\\uc2b5\\ub2c8\\ub2e4', u'CODE': u'INFO-000'}, u'list_total_count': 530}}\n",
      "{u'CardSubwayStatisticsService': {u'row': [{u'COMMT': u'', u'RIDE_PASGR_NUM': 112991.0, u'WORK_DT': u'20130723', u'LINE_NUM': u'\\ubd84\\ub2f9\\uc120', u'SUB_STA_NM': u'\\ub300\\ubaa8\\uc0b0\\uc785\\uad6c', u'ALIGHT_PASGR_NUM': 104169.0, u'USE_MON': u'201306'}, {u'COMMT': u'', u'RIDE_PASGR_NUM': 111791.0, u'WORK_DT': u'20130723', u'LINE_NUM': u'\\ubd84\\ub2f9\\uc120', u'SUB_STA_NM': u'\\uac1c\\ud3ec\\ub3d9', u'ALIGHT_PASGR_NUM': 112897.0, u'USE_MON': u'201306'}, {u'COMMT': u'', u'RIDE_PASGR_NUM': 64415.0, u'WORK_DT': u'20130723', u'LINE_NUM': u'\\ubd84\\ub2f9\\uc120', u'SUB_STA_NM': u'\\uad6c\\ub8e1', u'ALIGHT_PASGR_NUM': 63757.0, u'USE_MON': u'201306'}, {u'COMMT': u'', u'RIDE_PASGR_NUM': 157803.0, u'WORK_DT': u'20130723', u'LINE_NUM': u'\\ubd84\\ub2f9\\uc120', u'SUB_STA_NM': u'\\ub3c4\\uace1', u'ALIGHT_PASGR_NUM': 169985.0, u'USE_MON': u'201306'}, {u'COMMT': u'', u'RIDE_PASGR_NUM': 355886.0, u'WORK_DT': u'20130723', u'LINE_NUM': u'\\ubd84\\ub2f9\\uc120', u'SUB_STA_NM': u'\\ud55c\\ud2f0', u'ALIGHT_PASGR_NUM': 374308.0, u'USE_MON': u'201306'}], u'RESULT': {u'MESSAGE': u'\\uc815\\uc0c1 \\ucc98\\ub9ac\\ub418\\uc5c8\\uc2b5\\ub2c8\\ub2e4', u'CODE': u'INFO-000'}, u'list_total_count': 530}}\n",
      "{u'CardSubwayStatisticsService': {u'row': [{u'COMMT': u'', u'RIDE_PASGR_NUM': 225105.0, u'WORK_DT': u'20130723', u'LINE_NUM': u'\\ubd84\\ub2f9\\uc120', u'SUB_STA_NM': u'\\uc120\\ub989', u'ALIGHT_PASGR_NUM': 439758.0, u'USE_MON': u'201306'}, {u'COMMT': u'', u'RIDE_PASGR_NUM': 938296.0, u'WORK_DT': u'20130723', u'LINE_NUM': u'\\uacfc\\ucc9c\\uc120', u'SUB_STA_NM': u'\\ubc94\\uacc4', u'ALIGHT_PASGR_NUM': 943424.0, u'USE_MON': u'201306'}, {u'COMMT': u'', u'RIDE_PASGR_NUM': 405781.0, u'WORK_DT': u'20130723', u'LINE_NUM': u'\\uacfc\\ucc9c\\uc120', u'SUB_STA_NM': u'\\ud3c9\\ucd0c', u'ALIGHT_PASGR_NUM': 397350.0, u'USE_MON': u'201306'}, {u'COMMT': u'', u'RIDE_PASGR_NUM': 699997.0, u'WORK_DT': u'20130723', u'LINE_NUM': u'\\uacfc\\ucc9c\\uc120', u'SUB_STA_NM': u'\\uc778\\ub355\\uc6d0', u'ALIGHT_PASGR_NUM': 675735.0, u'USE_MON': u'201306'}, {u'COMMT': u'', u'RIDE_PASGR_NUM': 363053.0, u'WORK_DT': u'20130723', u'LINE_NUM': u'\\uacfc\\ucc9c\\uc120', u'SUB_STA_NM': u'\\uc815\\ubd80\\uacfc\\ucc9c\\uccad\\uc0ac', u'ALIGHT_PASGR_NUM': 355150.0, u'USE_MON': u'201306'}], u'RESULT': {u'MESSAGE': u'\\uc815\\uc0c1 \\ucc98\\ub9ac\\ub418\\uc5c8\\uc2b5\\ub2c8\\ub2e4', u'CODE': u'INFO-000'}, u'list_total_count': 530}}\n",
      "{u'CardSubwayStatisticsService': {u'row': [{u'COMMT': u'', u'RIDE_PASGR_NUM': 175909.0, u'WORK_DT': u'20130723', u'LINE_NUM': u'\\uacfc\\ucc9c\\uc120', u'SUB_STA_NM': u'\\uacfc\\ucc9c', u'ALIGHT_PASGR_NUM': 150565.0, u'USE_MON': u'201306'}, {u'COMMT': u'', u'RIDE_PASGR_NUM': 271844.0, u'WORK_DT': u'20130723', u'LINE_NUM': u'\\uacfc\\ucc9c\\uc120', u'SUB_STA_NM': u'\\ub300\\uacf5\\uc6d0', u'ALIGHT_PASGR_NUM': 284313.0, u'USE_MON': u'201306'}, {u'COMMT': u'', u'RIDE_PASGR_NUM': 229735.0, u'WORK_DT': u'20130723', u'LINE_NUM': u'\\uacfc\\ucc9c\\uc120', u'SUB_STA_NM': u'\\uacbd\\ub9c8\\uacf5\\uc6d0', u'ALIGHT_PASGR_NUM': 234848.0, u'USE_MON': u'201306'}, {u'COMMT': u'', u'RIDE_PASGR_NUM': 233096.0, u'WORK_DT': u'20130723', u'LINE_NUM': u'\\uacfc\\ucc9c\\uc120', u'SUB_STA_NM': u'\\uc120\\ubc14\\uc704', u'ALIGHT_PASGR_NUM': 199044.0, u'USE_MON': u'201306'}, {u'COMMT': u'', u'RIDE_PASGR_NUM': 263017.0, u'WORK_DT': u'20130723', u'LINE_NUM': u'\\uacf5\\ud56d\\ucca0\\ub3c4 1\\ud638\\uc120', u'SUB_STA_NM': u'\\uc778\\ucc9c\\uad6d\\uc81c\\uacf5\\ud56d', u'ALIGHT_PASGR_NUM': 248748.0, u'USE_MON': u'201306'}], u'RESULT': {u'MESSAGE': u'\\uc815\\uc0c1 \\ucc98\\ub9ac\\ub418\\uc5c8\\uc2b5\\ub2c8\\ub2e4', u'CODE': u'INFO-000'}, u'list_total_count': 530}}\n",
      "{u'CardSubwayStatisticsService': {u'row': [{u'COMMT': u'', u'RIDE_PASGR_NUM': 45047.0, u'WORK_DT': u'20130723', u'LINE_NUM': u'\\uacf5\\ud56d\\ucca0\\ub3c4 1\\ud638\\uc120', u'SUB_STA_NM': u'\\uacf5\\ud56d\\ud654\\ubb3c\\uccad\\uc0ac', u'ALIGHT_PASGR_NUM': 45225.0, u'USE_MON': u'201306'}, {u'COMMT': u'', u'RIDE_PASGR_NUM': 126837.0, u'WORK_DT': u'20130723', u'LINE_NUM': u'\\uacf5\\ud56d\\ucca0\\ub3c4 1\\ud638\\uc120', u'SUB_STA_NM': u'\\uc6b4\\uc11c', u'ALIGHT_PASGR_NUM': 121047.0, u'USE_MON': u'201306'}, {u'COMMT': u'', u'RIDE_PASGR_NUM': 451736.0, u'WORK_DT': u'20130723', u'LINE_NUM': u'\\uacf5\\ud56d\\ucca0\\ub3c4 1\\ud638\\uc120', u'SUB_STA_NM': u'\\uac80\\uc554', u'ALIGHT_PASGR_NUM': 415435.0, u'USE_MON': u'201306'}, {u'COMMT': u'', u'RIDE_PASGR_NUM': 251221.0, u'WORK_DT': u'20130723', u'LINE_NUM': u'\\uacf5\\ud56d\\ucca0\\ub3c4 1\\ud638\\uc120', u'SUB_STA_NM': u'\\uacc4\\uc591', u'ALIGHT_PASGR_NUM': 223588.0, u'USE_MON': u'201306'}, {u'COMMT': u'', u'RIDE_PASGR_NUM': 206576.0, u'WORK_DT': u'20130723', u'LINE_NUM': u'\\uacf5\\ud56d\\ucca0\\ub3c4 1\\ud638\\uc120', u'SUB_STA_NM': u'\\uae40\\ud3ec\\uacf5\\ud56d', u'ALIGHT_PASGR_NUM': 173194.0, u'USE_MON': u'201306'}], u'RESULT': {u'MESSAGE': u'\\uc815\\uc0c1 \\ucc98\\ub9ac\\ub418\\uc5c8\\uc2b5\\ub2c8\\ub2e4', u'CODE': u'INFO-000'}, u'list_total_count': 530}}\n"
     ]
    }
   ],
   "source": [
    "!python src/ds_open_subwayPassengers.py\n"
   ]
  },
  {
   "cell_type": "code",
   "execution_count": 32,
   "metadata": {
    "collapsed": false
   },
   "outputs": [
    {
     "name": "stdout",
     "output_type": "stream",
     "text": [
      "Overwriting src/ds_open_subwayPassengers_mongo.js\n"
     ]
    }
   ],
   "source": [
    "%%writefile src/ds_open_subwayPassengers_mongo.js\n",
    "use ds_open_subwayPassengersDb\n",
    "db.db_open_subwayTable.find({\"CardSubwayStatisticsService.row.SUB_STA_NM\":\"강남구청\"})"
   ]
  },
  {
   "cell_type": "code",
   "execution_count": 33,
   "metadata": {
    "collapsed": false
   },
   "outputs": [
    {
     "name": "stdout",
     "output_type": "stream",
     "text": [
      "MongoDB shell version v3.4.3\n",
      "connecting to: mongodb://127.0.0.1:27017\n",
      "MongoDB server version: 3.4.3\n",
      "switched to db ds_open_subwayPassengersDb\n",
      "{ \"_id\" : ObjectId(\"59084323e8d31007b8a1c413\"), \"CardSubwayStatisticsService\" : { \"row\" : [ { \"COMMT\" : \"\", \"RIDE_PASGR_NUM\" : 206631, \"WORK_DT\" : \"20130723\", \"LINE_NUM\" : \"분당선\", \"SUB_STA_NM\" : \"선정릉\", \"ALIGHT_PASGR_NUM\" : 231260, \"USE_MON\" : \"201306\" }, { \"COMMT\" : \"\", \"RIDE_PASGR_NUM\" : 188076, \"WORK_DT\" : \"20130723\", \"LINE_NUM\" : \"분당선\", \"SUB_STA_NM\" : \"강남구청\", \"ALIGHT_PASGR_NUM\" : 215608, \"USE_MON\" : \"201306\" }, { \"COMMT\" : \"\", \"RIDE_PASGR_NUM\" : 345902, \"WORK_DT\" : \"20130723\", \"LINE_NUM\" : \"분당선\", \"SUB_STA_NM\" : \"압구정로데오\", \"ALIGHT_PASGR_NUM\" : 393142, \"USE_MON\" : \"201306\" }, { \"COMMT\" : \"\", \"RIDE_PASGR_NUM\" : 143459, \"WORK_DT\" : \"20130723\", \"LINE_NUM\" : \"분당선\", \"SUB_STA_NM\" : \"서울숲\", \"ALIGHT_PASGR_NUM\" : 136147, \"USE_MON\" : \"201306\" }, { \"COMMT\" : \"\", \"RIDE_PASGR_NUM\" : 180522, \"WORK_DT\" : \"20130723\", \"LINE_NUM\" : \"분당선\", \"SUB_STA_NM\" : \"수서\", \"ALIGHT_PASGR_NUM\" : 185810, \"USE_MON\" : \"201306\" } ], \"RESULT\" : { \"MESSAGE\" : \"정상 처리되었습니다\", \"CODE\" : \"INFO-000\" }, \"list_total_count\" : 530 } }\n",
      "{ \"_id\" : ObjectId(\"590843c6e8d31007c62d0a94\"), \"CardSubwayStatisticsService\" : { \"row\" : [ { \"COMMT\" : \"\", \"RIDE_PASGR_NUM\" : 206631, \"WORK_DT\" : \"20130723\", \"LINE_NUM\" : \"분당선\", \"SUB_STA_NM\" : \"선정릉\", \"ALIGHT_PASGR_NUM\" : 231260, \"USE_MON\" : \"201306\" }, { \"COMMT\" : \"\", \"RIDE_PASGR_NUM\" : 188076, \"WORK_DT\" : \"20130723\", \"LINE_NUM\" : \"분당선\", \"SUB_STA_NM\" : \"강남구청\", \"ALIGHT_PASGR_NUM\" : 215608, \"USE_MON\" : \"201306\" }, { \"COMMT\" : \"\", \"RIDE_PASGR_NUM\" : 345902, \"WORK_DT\" : \"20130723\", \"LINE_NUM\" : \"분당선\", \"SUB_STA_NM\" : \"압구정로데오\", \"ALIGHT_PASGR_NUM\" : 393142, \"USE_MON\" : \"201306\" }, { \"COMMT\" : \"\", \"RIDE_PASGR_NUM\" : 143459, \"WORK_DT\" : \"20130723\", \"LINE_NUM\" : \"분당선\", \"SUB_STA_NM\" : \"서울숲\", \"ALIGHT_PASGR_NUM\" : 136147, \"USE_MON\" : \"201306\" }, { \"COMMT\" : \"\", \"RIDE_PASGR_NUM\" : 180522, \"WORK_DT\" : \"20130723\", \"LINE_NUM\" : \"분당선\", \"SUB_STA_NM\" : \"수서\", \"ALIGHT_PASGR_NUM\" : 185810, \"USE_MON\" : \"201306\" } ], \"RESULT\" : { \"MESSAGE\" : \"정상 처리되었습니다\", \"CODE\" : \"INFO-000\" }, \"list_total_count\" : 530 } }\n",
      "bye\n"
     ]
    }
   ],
   "source": [
    "!mongo < src/ds_open_subwayPassengers_mongo.js"
   ]
  },
  {
   "cell_type": "code",
   "execution_count": 42,
   "metadata": {
    "collapsed": false
   },
   "outputs": [
    {
     "name": "stdout",
     "output_type": "stream",
     "text": [
      "Writing src/ds_open_gokr_ex.py\n"
     ]
    }
   ],
   "source": [
    "%%writefile src/ds_open_gokr_ex.py\n",
    "#!/usr/bin/env python\n",
    "# coding: utf-8\n",
    "import os\n",
    "import requests\n",
    "import urlparse\n",
    "import urllib\n",
    "import mylib\n",
    "\n",
    "def doIt():\n",
    "    # (1) service + operation\n",
    "    SERVICE='ArpltnInforInqireSvc'\n",
    "    OPERATION_NAME='getMinuDustFrcstDspth'\n",
    "    params1=os.path.join(SERVICE,OPERATION_NAME)\n",
    "    # (2) query params encoding\n",
    "    _d=dict()\n",
    "    _d['dataTerm']='month'\n",
    "    params2 = urllib.urlencode(_d)\n",
    "    # (3) add my service key\n",
    "    keyPath=os.path.join(os.getcwd(), 'src', 'key.properties')\n",
    "    key=mylib.getKey(keyPath)\n",
    "    keygokr=key['gokr'] # keygokr='8Bx4C1%2B...'\n",
    "    params=params1+'?'+'serviceKey='+keygokr+'&'+params2\n",
    "    # (4) make a full url\n",
    "    _url='http://openapi.airkorea.or.kr/openapi/services/rest/ArpltnInforInqireSvc'\n",
    "    url=urlparse.urljoin(_url,params)\n",
    "    # (5) get data\n",
    "    data=requests.get(url).text\n",
    "    print data[:300]\n",
    "\n",
    "if __name__ == \"__main__\":\n",
    "    doIt()"
   ]
  },
  {
   "cell_type": "code",
   "execution_count": 45,
   "metadata": {
    "collapsed": false
   },
   "outputs": [
    {
     "name": "stdout",
     "output_type": "stream",
     "text": [
      "<?xml version=\"1.0\" encoding=\"UTF-8\"?>\r",
      "\r\n",
      "\r",
      "\r\n",
      "\r",
      "\r\n",
      "\r",
      "\r\n",
      "\r",
      "\r\n",
      "<response>\r",
      "\r\n",
      "\t<header>\r",
      "\r\n",
      "\t\t<resultCode>00</resultCode>\r",
      "\r\n",
      "\t\t<resultMsg>NORMAL SERVICE.</resultMsg>\r",
      "\r\n",
      "\t</header>\r",
      "\r\n",
      "\t<body>\r",
      "\r\n",
      "\t\t<items>\r",
      "\r\n",
      "\t\t\t\r",
      "\r\n",
      "\t\t\t\t<item>\r",
      "\r\n",
      "\t\t\t\t\t<dataTime>2017-05-02</dataTime>\r",
      "\r\n",
      "\t\t\t\t\t<informCode>PM25</informCode>\r",
      "\r\n",
      "\t\t\t\t</item>\r",
      "\r\n",
      "\t\t\t\r",
      "\r\n",
      "\t\t\t\t<item>\r",
      "\r\n",
      "\t\t\t\r\n"
     ]
    }
   ],
   "source": [
    "!python src/ds_open_gokr_11.py"
   ]
  }
 ],
 "metadata": {
  "kernelspec": {
   "display_name": "Python 2",
   "language": "python",
   "name": "python2"
  },
  "language_info": {
   "codemirror_mode": {
    "name": "ipython",
    "version": 2
   },
   "file_extension": ".py",
   "mimetype": "text/x-python",
   "name": "python",
   "nbconvert_exporter": "python",
   "pygments_lexer": "ipython2",
   "version": "2.7.13"
  }
 },
 "nbformat": 4,
 "nbformat_minor": 2
}
