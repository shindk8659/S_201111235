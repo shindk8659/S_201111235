{
 "cells": [
  {
   "cell_type": "code",
   "execution_count": 2,
   "metadata": {
    "collapsed": false
   },
   "outputs": [],
   "source": [
    "import os\n",
    "home=os.path.expanduser(\"~\")\n",
    "import findspark\n",
    "findspark.init(os.path.join(home,\"Downloads\",\"spark-2.0.0-bin-hadoop2.6\"))\n",
    "import pyspark\n",
    "myConf=pyspark.SparkConf()\n",
    "spark = pyspark.sql.SparkSession.builder.master(\"local\").appName(\"myApp\").config(conf=myConf).config('spark.sql.warehouse.dir','file:///C:/Users/DongkyuShin/Desktop/bigdata/s_201111235/201111235/bigdata').getOrCreate()"
   ]
  },
  {
   "cell_type": "code",
   "execution_count": 3,
   "metadata": {
    "collapsed": false
   },
   "outputs": [],
   "source": [
    "import os\n",
    "import sys \n",
    "os.environ[\"SPARK_HOME\"]=os.path.join(os.path.expanduser(\"~\"),'Downloads','spark-2.0.0-bin-hadoop2.6')\n",
    "os.environ[\"PYLIB\"]=os.path.join(os.environ[\"SPARK_HOME\"],'python','lib')\n",
    "sys.path.insert(0,os.path.join(os.environ[\"PYLIB\"],'py4j-0.10.1-src.zip'))\n",
    "sys.path.insert(0,os.path.join(os.environ[\"PYLIB\"],'pyspark.zip'))"
   ]
  },
  {
   "cell_type": "code",
   "execution_count": 4,
   "metadata": {
    "collapsed": false
   },
   "outputs": [
    {
     "name": "stdout",
     "output_type": "stream",
     "text": [
      "C:\\Users\\DongkyuShin\\Downloads\\spark-2.0.0-bin-hadoop2.6\\python\\lib\\pyspark.zip\n",
      "C:\\Users\\DongkyuShin\\Downloads\\spark-2.0.0-bin-hadoop2.6\\python\\lib\\py4j-0.10.1-src.zip\n",
      "C:\\Users\\DongkyuShin\\Downloads\\spark-2.0.0-bin-hadoop2.6\\python\n",
      "C:\\Users\\DongkyuShin\\AppData\\Local\\Temp\\spark-ba694c92-30b3-44a1-b4dc-baf6902c4245\\userFiles-5ebd60fd-ac53-4116-b820-da6cecc0b179\n",
      "C:\\Users\\DongkyuShin\\Downloads\\spark-2.0.0-bin-hadoop2.6\\python\\lib\\py4j-0.10.1-src.zip\n",
      "\n",
      "C:\\Users\\DongkyuShin\\Anaconda2\\python27.zip\n",
      "C:\\Users\\DongkyuShin\\Anaconda2\\DLLs\n",
      "C:\\Users\\DongkyuShin\\Anaconda2\\lib\n",
      "C:\\Users\\DongkyuShin\\Anaconda2\\lib\\plat-win\n",
      "C:\\Users\\DongkyuShin\\Anaconda2\\lib\\lib-tk\n",
      "C:\\Users\\DongkyuShin\\Anaconda2\n",
      "C:\\Users\\DongkyuShin\\Anaconda2\\lib\\site-packages\n",
      "C:\\Users\\DongkyuShin\\Anaconda2\\lib\\site-packages\\Sphinx-1.5.1-py2.7.egg\n",
      "C:\\Users\\DongkyuShin\\Anaconda2\\lib\\site-packages\\win32\n",
      "C:\\Users\\DongkyuShin\\Anaconda2\\lib\\site-packages\\win32\\lib\n",
      "C:\\Users\\DongkyuShin\\Anaconda2\\lib\\site-packages\\Pythonwin\n",
      "C:\\Users\\DongkyuShin\\Anaconda2\\lib\\site-packages\\setuptools-27.2.0-py2.7.egg\n",
      "C:\\Users\\DongkyuShin\\Anaconda2\\lib\\site-packages\\IPython\\extensions\n",
      "C:\\Users\\DongkyuShin\\.ipython\n"
     ]
    }
   ],
   "source": [
    "for i in sys.path:\n",
    "    print i"
   ]
  },
  {
   "cell_type": "code",
   "execution_count": 6,
   "metadata": {
    "collapsed": false
   },
   "outputs": [
    {
     "name": "stdout",
     "output_type": "stream",
     "text": [
      "root\n",
      " |-- Atrribute: long (nullable = true)\n",
      " |-- Goal: long (nullable = true)\n",
      " |-- Lose: long (nullable = true)\n",
      " |-- Name: string (nullable = true)\n",
      " |-- Play: long (nullable = true)\n",
      " |-- PlayerNumber: long (nullable = true)\n",
      " |-- Win: long (nullable = true)\n",
      " |-- Winper: double (nullable = true)\n",
      "\n"
     ]
    }
   ],
   "source": [
    "\n",
    "from pyspark.sql import Row\n",
    "import numpy as np\n",
    "import matplotlib.pyplot as plt\n",
    "cfile= os.path.join(os.path.expanduser(\"~\"),\\\n",
    "           \"Desktop/bigdata/s_201111235/201111235/bigdata/data/tottenham/playerlist.txt\")\n",
    "rdd = spark.sparkContext.textFile(cfile)\n",
    "parts = rdd.map(lambda x:x.split(\"\\t\"))\n",
    "player = parts.map(lambda p: Row(PlayerNumber=int(p[0].strip()),Name=p[1],Atrribute=int(p[2].strip()),Goal=int(p[3].strip()),Win=int(p[4].strip()), Lose=int(p[5].strip()),Play=int(p[6].strip()),Winper=float(p[7].strip())))\n",
    "\n",
    "tDf = spark.createDataFrame(player)\n",
    "\n",
    "tDf.printSchema()\n",
    "_atrributeRdd=tDf.rdd.map(lambda fields:fields[0]).collect()\n",
    "_goalRdd=tDf.rdd.map(lambda fields:fields[1]).collect()\n",
    "_loseRdd=tDf.rdd.map(lambda fields:fields[2]).collect()\n",
    "_nameRdd=tDf.rdd.map(lambda fields:fields[3]).collect()\n",
    "_playRdd=tDf.rdd.map(lambda fields:fields[4]).collect()\n",
    "_numberRdd=tDf.rdd.map(lambda fields:fields[5]).collect()\n",
    "_winRdd=tDf.rdd.map(lambda fields:fields[6]).collect()\n",
    "_winperRdd=tDf.rdd.map(lambda fields:fields[7]).collect()\n",
    "\n",
    "\n"
   ]
  },
  {
   "cell_type": "code",
   "execution_count": 7,
   "metadata": {
    "collapsed": false
   },
   "outputs": [
    {
     "name": "stdout",
     "output_type": "stream",
     "text": [
      "-------------------------------------------------------------------\n",
      "They are currently playing at EPL.\n",
      "PlayerNumber, PlayerName, Goal, Number of Wins, Number of Losses.\n",
      "7 Son Heung-Min 18 39 9\n",
      "2 Kyle Walker 5 107 39\n",
      "3 Danny Rose 9 66 34\n",
      "4 Toby Alderweireld 6 54 18\n",
      "5 Jan Vertonghen 4 85 32\n",
      "16 Kieran Trippier 1 22 21\n",
      "27 Kevin Wimmer 0 9 2\n",
      "33 Ben Davies 4 55 37\n",
      "11 Erik Lamela 8 42 20\n",
      "15 Eric Dier 7 57 18\n",
      "19 Mousa Dembele 12 107 47\n",
      "20 Dele Alli 28 45 8\n",
      "23 Christian Eriksen 31 75 28\n",
      "10 Harry Kane 78 66 23\n",
      "12 Victor Wanyama 8 63 31\n",
      "9 Vincent Janssen 2 17 3\n",
      "25 Josh Onomah 0 8 2\n",
      "29 Harry Winks 1 14 3\n",
      "30 Pau Lopez 0 0 0\n",
      "17 Moussa Sissoko 11 58 59\n",
      "14 Georges Kevin-Nkoudou 0 5 2\n",
      "1 Hugo Lloris 59 98 34\n",
      "13 Michel Vorm 31 32 37\n",
      "-------------------------------------------------------------------\n",
      "Please enter 11 player numbers.\n",
      "7\n",
      "2\n",
      "3\n",
      "4\n",
      "5\n",
      "16\n",
      "20\n",
      "23\n",
      "10\n",
      "17\n",
      "13\n",
      "-------------------------------------------------------------------\n",
      "The odds of the selected player.\n",
      "Son Heung-Min 7 81.25\n",
      "Kyle Walker 2 73.2876712329\n",
      "Danny Rose 3 66.0\n",
      "Toby Alderweireld 4 75.0\n",
      "Jan Vertonghen 5 72.6495726496\n",
      "Kieran Trippier 16 51.1627906977\n",
      "Kevin Wimmer 27 81.8181818182\n",
      "Ben Davies 33 59.7826086957\n",
      "Erik Lamela 11 67.7419354839\n",
      "Eric Dier 15 76.0\n",
      "Mousa Dembele 19 69.4805194805\n",
      "-------------------------------------------------------------------\n",
      "The odds average of 11 players.\n",
      "70.3793890962\n",
      "-------------------------------------------------------------------\n"
     ]
    },
    {
     "data": {
      "image/png": "[encoded data removed]",
      "text/plain": [
       "<matplotlib.figure.Figure at 0xaa66908>"
      ]
     },
     "metadata": {},
     "output_type": "display_data"
    }
   ],
   "source": [
    "\n",
    "from pyspark.sql import Row\n",
    "import numpy as np\n",
    "import matplotlib.pyplot as plt\n",
    "cfile= os.path.join(os.path.expanduser(\"~\"),\\\n",
    "           \"Desktop/bigdata/s_201111235/201111235/bigdata/data/tottenham/playerlist.txt\")\n",
    "rdd = spark.sparkContext.textFile(cfile)\n",
    "parts = rdd.map(lambda x:x.split(\"\\t\"))\n",
    "player = parts.map(lambda p: Row(PlayerNumber=int(p[0].strip()),Name=p[1],Atrribute=int(p[2].strip()),Goal=int(p[3].strip()),Win=int(p[4].strip()), Lose=int(p[5].strip()),Play=int(p[6].strip()),Winper=float(p[7].strip())))\n",
    "\n",
    "tDf = spark.createDataFrame(player)\n",
    "\n",
    "_atrributeRdd=tDf.rdd.map(lambda fields:fields[0]).collect()\n",
    "_goalRdd=tDf.rdd.map(lambda fields:fields[1]).collect()\n",
    "_loseRdd=tDf.rdd.map(lambda fields:fields[2]).collect()\n",
    "_nameRdd=tDf.rdd.map(lambda fields:fields[3]).collect()\n",
    "_playRdd=tDf.rdd.map(lambda fields:fields[4]).collect()\n",
    "_numberRdd=tDf.rdd.map(lambda fields:fields[5]).collect()\n",
    "_winRdd=tDf.rdd.map(lambda fields:fields[6]).collect()\n",
    "_winperRdd=tDf.rdd.map(lambda fields:fields[7]).collect()\n",
    "\n",
    "value=[None]*11\n",
    "odd=0\n",
    "print (\"-------------------------------------------------------------------\")\n",
    "print (\"They are currently playing at EPL.\")\n",
    "print (\"PlayerNumber, PlayerName, Goal, Number of Wins, Number of Losses.\")\n",
    "for i in range(0,23):\n",
    "    print np.array(_numberRdd)[i],np.array(_nameRdd)[i],np.array(_goalRdd)[i],np.array(_winRdd)[i],np.array(_loseRdd)[i]\n",
    "print (\"-------------------------------------------------------------------\")\n",
    "print (\"Please enter 11 player numbers.\")\n",
    "for i in range(0,11):\n",
    "    playerselect=input(\"\")\n",
    "    value[i]=playerselect\n",
    "print (\"-------------------------------------------------------------------\")\n",
    "print (\"The odds of the selected player.\")\n",
    "\n",
    "for i in range(0,11):\n",
    "    for j in range(0,23):\n",
    "        if value[i]==np.array(_numberRdd)[j]:\n",
    "            odd=odd+float(np.array(_winperRdd)[i])\n",
    "            print np.array(_nameRdd)[i],np.array(_numberRdd)[i],np.array(_winperRdd)[i]\n",
    "            \n",
    "oddsum=odd/11\n",
    "print (\"-------------------------------------------------------------------\")\n",
    "print (\"The odds average of 11 players.\")\n",
    "print oddsum\n",
    "print (\"-------------------------------------------------------------------\")\n",
    "\n",
    "def barchart(data,labels):\n",
    "    num_bars = len(data)\n",
    "    positions = range(1, num_bars + 1)\n",
    "    plt.barh(positions, data, align='center') \n",
    "    plt.yticks(positions, labels)\n",
    "    plt.xlabel('Win Odd')\n",
    "    plt.ylabel('Player')\n",
    "    plt.title('Number of players won per player')\n",
    "    plt.grid() \n",
    "    plt.show()\n",
    "\n",
    "barchart(_winperRdd,_nameRdd)\n"
   ]
  },
  {
   "cell_type": "code",
   "execution_count": 1,
   "metadata": {
    "collapsed": false
   },
   "outputs": [
    {
     "name": "stdout",
     "output_type": "stream",
     "text": [
      "Writing .py\n"
     ]
    }
   ],
   "source": [
    "%%writefile .py\n",
    "# coding: utf-8\n",
    "from pyspark.sql import Row\n",
    "import numpy as np\n",
    "import matplotlib.pyplot as plt\n",
    "\n",
    "team=[None]*2\n",
    "vsodd=[None]*2\n",
    "print (\"Insert Tow Team.\")\n",
    "for i in range(0,2):\n",
    "    team[i]=raw_input(\"\")\n",
    "for i in range(0,2):  \n",
    "    if team[i]=='tottenham':\n",
    "        cfile= os.path.join(os.path.expanduser(\"~\"),\\\n",
    "                   \"Desktop/bigdata/s_201111235/201111235/bigdata/data/tottenham/playerlist.txt\")\n",
    "        rdd = spark.sparkContext.textFile(cfile)\n",
    "        parts = rdd.map(lambda x:x.split(\"\\t\"))\n",
    "        player = parts.map(lambda p: Row(PlayerNumber=int(p[0].strip()),Name=p[1],Atrribute=int(p[2].strip()),Goal=int(p[3].strip()),Win=int(p[4].strip()), Lose=int(p[5].strip()),Play=int(p[6].strip()),Winper=float(p[7].strip())))\n",
    "\n",
    "        tDf = spark.createDataFrame(player)\n",
    "\n",
    "        _atrributeRdd=tDf.rdd.map(lambda fields:fields[0]).collect()\n",
    "        _goalRdd=tDf.rdd.map(lambda fields:fields[1]).collect()\n",
    "        _loseRdd=tDf.rdd.map(lambda fields:fields[2]).collect()\n",
    "        _nameRdd=tDf.rdd.map(lambda fields:fields[3]).collect()\n",
    "        _playRdd=tDf.rdd.map(lambda fields:fields[4]).collect()\n",
    "        _numberRdd=tDf.rdd.map(lambda fields:fields[5]).collect()\n",
    "        _winRdd=tDf.rdd.map(lambda fields:fields[6]).collect()\n",
    "        _winperRdd=tDf.rdd.map(lambda fields:fields[7]).collect()\n",
    "\n",
    "        value=[None]*11\n",
    "        odd=0\n",
    "        print (\"-------------------------------------------------------------------\")\n",
    "        print (\"They are currently playing at EPL.\")\n",
    "        print (\"PlayerNumber, PlayerName, Goal, Number of Wins, Number of Losses.\")\n",
    "        for i in range(0,23):\n",
    "            print np.array(_numberRdd)[i],np.array(_nameRdd)[i],np.array(_goalRdd)[i],np.array(_winRdd)[i],np.array(_loseRdd)[i]\n",
    "        print (\"-------------------------------------------------------------------\")\n",
    "        print (\"Please enter 11 player numbers.\")\n",
    "        for i in range(0,11):\n",
    "            playerselect=input(\"\")\n",
    "            value[i]=playerselect\n",
    "        print (\"-------------------------------------------------------------------\")\n",
    "        print (\"The odds of the selected player.\")\n",
    "\n",
    "        for i in range(0,11):\n",
    "            for j in range(0,23):\n",
    "                if value[i]==np.array(_numberRdd)[j]:\n",
    "                    odd=odd+float(np.array(_winperRdd)[i])\n",
    "                    print np.array(_nameRdd)[i],np.array(_numberRdd)[i],np.array(_winperRdd)[i]\n",
    "\n",
    "        oddsum=odd/11\n",
    "        vsodd[i]=oddsum\n",
    "        print (\"-------------------------------------------------------------------\")\n",
    "        print (\"The odds average of 11 players.\")\n",
    "        print oddsum\n",
    "        print (\"-------------------------------------------------------------------\")\n",
    "\n",
    "        def barchart(data,labels):\n",
    "            num_bars = len(data)\n",
    "            positions = range(1, num_bars + 1)\n",
    "            plt.barh(positions, data, align='center') \n",
    "            plt.yticks(positions, labels)\n",
    "            plt.xlabel('Win Odd')\n",
    "            plt.ylabel('Player')\n",
    "            plt.title('Number of players won per player')\n",
    "            plt.grid() \n",
    "            plt.show()\n",
    "\n",
    "        barchart(_winperRdd,_nameRdd)\n",
    "        \n",
    "print team[1],(\"vs\"),team[2],(\":\"),vsodd[1],(\"vs\"),vsodd[2]\n"
   ]
  }
 ],
 "metadata": {
  "kernelspec": {
   "display_name": "Python 2",
   "language": "python",
   "name": "python2"
  },
  "language_info": {
   "codemirror_mode": {
    "name": "ipython",
    "version": 2
   },
   "file_extension": ".py",
   "mimetype": "text/x-python",
   "name": "python",
   "nbconvert_exporter": "python",
   "pygments_lexer": "ipython2",
   "version": "2.7.13"
  }
 },
 "nbformat": 4,
 "nbformat_minor": 2
}
