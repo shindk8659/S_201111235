{
 "cells": [
  {
   "cell_type": "code",
   "execution_count": 29,
   "metadata": {
    "collapsed": false
   },
   "outputs": [
    {
     "name": "stdout",
     "output_type": "stream",
     "text": [
      "Overwriting mylib.py\n"
     ]
    }
   ],
   "source": [
    "%%writefile mylib.py\n",
    "def sayHello():\n",
    "    print \"hello\"\n",
    "\n",
    "def getKey(keyPath):\n",
    "    d=dict()\n",
    "    f=open(keyPath,'r')\n",
    "    for line in f.readlines():\n",
    "        row=line.split('=')\n",
    "        row0=row[0]\n",
    "        d[row0]=row[1].strip()\n",
    "    return d\n",
    "\n"
   ]
  },
  {
   "cell_type": "code",
   "execution_count": 22,
   "metadata": {
    "collapsed": false
   },
   "outputs": [
    {
     "name": "stdout",
     "output_type": "stream",
     "text": [
      "Overwriting src/ds_open_subway.py\n"
     ]
    }
   ],
   "source": [
    "%%writefile src/ds_open_subway.py\n",
    "import os\n",
    "import urlparse\n",
    "import requests\n",
    "import lxml\n",
    "import lxml.etree\n",
    "import StringIO\n",
    "import mylib\n",
    "\n",
    "def doIt():\n",
    "    keyPath=os.path.join(os.getcwd(), 'src', 'key.properties')\n",
    "    key=mylib.getKey(keyPath)\n",
    "    KEY=str(key['dataseoul'])\n",
    "    TYPE='xml'\n",
    "    SERVICE='SearchSTNBySubwayLineService'\n",
    "    START_INDEX=str(1)\n",
    "    END_INDEX=str(200)\n",
    "    LINE_NUM=str(2)\n",
    "\n",
    "    params=os.path.join(KEY,TYPE,SERVICE,START_INDEX,END_INDEX,LINE_NUM)\n",
    "\n",
    "    _url='http://openAPI.seoul.go.kr:8088/'\n",
    "    url=urlparse.urljoin(_url,params)\n",
    "    data=requests.get(url).text\n",
    "    tree=lxml.etree.fromstring(data.encode('utf-8'))\n",
    "    nodes=tree.xpath('//STATION_NM')\n",
    "    for node in nodes:\n",
    "        print node.text\n",
    "\n",
    "if __name__ == \"__main__\":\n",
    "    doIt()"
   ]
  },
  {
   "cell_type": "code",
   "execution_count": 23,
   "metadata": {
    "collapsed": false
   },
   "outputs": [
    {
     "name": "stdout",
     "output_type": "stream",
     "text": [
      "시청\r\n",
      "을지로입구\r\n",
      "을지로3가\r\n",
      "을지로4가\r\n",
      "동대문역사문화공원\r\n",
      "신당\r\n",
      "상왕십리\r\n",
      "왕십리\r\n",
      "한양대\r\n",
      "뚝섬\r\n",
      "성수\r\n",
      "용답\r\n",
      "신답\r\n",
      "용두\r\n",
      "신설동\r\n",
      "건대입구\r\n",
      "구의\r\n",
      "강변\r\n",
      "잠실나루\r\n",
      "잠실\r\n",
      "잠실새내\r\n",
      "종합운동장\r\n",
      "삼성\r\n",
      "선릉\r\n",
      "역삼\r\n",
      "강남\r\n",
      "교대\r\n",
      "서초\r\n",
      "방배\r\n",
      "사당\r\n",
      "낙성대\r\n",
      "서울대입구\r\n",
      "봉천\r\n",
      "신림\r\n",
      "신대방\r\n",
      "구로디지털단지\r\n",
      "대림\r\n",
      "신도림\r\n",
      "도림천\r\n",
      "양천구청\r\n",
      "신정네거리\r\n",
      "까치산\r\n",
      "문래\r\n",
      "영등포구청\r\n",
      "당산\r\n",
      "합정\r\n",
      "홍대입구\r\n",
      "신촌\r\n",
      "이대\r\n",
      "아현\r\n",
      "충정로\r\n"
     ]
    }
   ],
   "source": [
    "!python src/ds_open_subway.py"
   ]
  },
  {
   "cell_type": "code",
   "execution_count": 38,
   "metadata": {
    "collapsed": false
   },
   "outputs": [
    {
     "name": "stdout",
     "output_type": "stream",
     "text": [
      "시청\n",
      "을지로입구\n",
      "을지로3가\n",
      "을지로4가\n",
      "동대문역사문화공원\n",
      "신당\n",
      "상왕십리\n",
      "왕십리\n",
      "한양대\n",
      "뚝섬\n",
      "성수\n",
      "용답\n",
      "신답\n",
      "용두\n",
      "신설동\n",
      "건대입구\n",
      "구의\n",
      "강변\n",
      "잠실나루\n",
      "잠실\n",
      "잠실새내\n",
      "종합운동장\n",
      "삼성\n",
      "선릉\n",
      "역삼\n",
      "강남\n",
      "교대\n",
      "서초\n",
      "방배\n",
      "사당\n",
      "낙성대\n",
      "서울대입구\n",
      "봉천\n",
      "신림\n",
      "신대방\n",
      "구로디지털단지\n",
      "대림\n",
      "신도림\n",
      "도림천\n",
      "양천구청\n",
      "신정네거리\n",
      "까치산\n",
      "문래\n",
      "영등포구청\n",
      "당산\n",
      "합정\n",
      "홍대입구\n",
      "신촌\n",
      "이대\n",
      "아현\n",
      "충정로\n"
     ]
    }
   ],
   "source": [
    "import os\n",
    "import mylib\n",
    "\n",
    "keyPath=os.path.join(os.getcwd(), 'src', 'key.properties')\n",
    "key=mylib.getKey(keyPath)\n",
    "KEY=str(key['dataseoul'])\n",
    "TYPE='xml'\n",
    "SERVICE='SearchSTNBySubwayLineService'\n",
    "START_INDEX=str(1)\n",
    "END_INDEX=str(100)\n",
    "LINE_NUM=str(2)\n",
    "\n",
    "params=os.path.join(KEY,TYPE,SERVICE,START_INDEX,END_INDEX,LINE_NUM)\n",
    "import urlparse\n",
    "_url='http://openAPI.seoul.go.kr:8088/'\n",
    "url=urlparse.urljoin(_url,params)\n",
    "#print url\n",
    "import requests\n",
    "data=requests.get(url).text\n",
    "import re\n",
    "p=re.compile('<STATION_NM>(.+?)</STATION_NM>')\n",
    "res=p.findall(data)\n",
    "for item in res:\n",
    "    print item"
   ]
  },
  {
   "cell_type": "code",
   "execution_count": null,
   "metadata": {
    "collapsed": true
   },
   "outputs": [],
   "source": []
  }
 ],
 "metadata": {
  "kernelspec": {
   "display_name": "Python 2",
   "language": "python",
   "name": "python2"
  },
  "language_info": {
   "codemirror_mode": {
    "name": "ipython",
    "version": 2
   },
   "file_extension": ".py",
   "mimetype": "text/x-python",
   "name": "python",
   "nbconvert_exporter": "python",
   "pygments_lexer": "ipython2",
   "version": "2.7.13"
  }
 },
 "nbformat": 4,
 "nbformat_minor": 2
}
